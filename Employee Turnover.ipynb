{
 "cells": [
  {
   "cell_type": "markdown",
   "id": "c7bd98b5",
   "metadata": {},
   "source": [
    "# Can you help reduce employee turnover?\n",
    "\n",
    "## 📖 Background\n",
    "You work for the human capital department of a large corporation. The Board is worried about the relatively high turnover, and your team must look into ways to reduce the number of employees leaving the company.\n",
    "\n",
    "The team needs to understand better the situation, which employees are more likely to leave, and why. Once it is clear what variables impact employee churn, you can present your findings along with your ideas on how to attack the problem."
   ]
  },
  {
   "cell_type": "markdown",
   "id": "8c439997",
   "metadata": {},
   "source": [
    "## 💾 The data\n",
    "The department has assembled data on almost 10,000 employees. The team used information from exit interviews, performance reviews, and employee records.\n",
    "\n",
    "- \"department\" - the department the employee belongs to.\n",
    "- \"promoted\" - 1 if the employee was promoted in the previous 24 months, 0 otherwise.\n",
    "- \"review\" - the composite score the employee received in their last evaluation.\n",
    "- \"projects\" - how many projects the employee is involved in.\n",
    "- \"salary\" - for confidentiality reasons, salary comes in three tiers: low, medium, high.\n",
    "- \"tenure\" - how many years the employee has been at the company.\n",
    "- \"satisfaction\" - a measure of employee satisfaction from surveys.\n",
    "- \"avg_hrs_month\" - the average hours the employee worked in a month.\n",
    "- \"left\" - \"yes\" if the employee ended up leaving, \"no\" otherwise."
   ]
  },
  {
   "cell_type": "code",
   "execution_count": 1,
   "id": "061b1ea2",
   "metadata": {},
   "outputs": [
    {
     "data": {
      "text/html": [
       "<div>\n",
       "<style scoped>\n",
       "    .dataframe tbody tr th:only-of-type {\n",
       "        vertical-align: middle;\n",
       "    }\n",
       "\n",
       "    .dataframe tbody tr th {\n",
       "        vertical-align: top;\n",
       "    }\n",
       "\n",
       "    .dataframe thead th {\n",
       "        text-align: right;\n",
       "    }\n",
       "</style>\n",
       "<table border=\"1\" class=\"dataframe\">\n",
       "  <thead>\n",
       "    <tr style=\"text-align: right;\">\n",
       "      <th></th>\n",
       "      <th>department</th>\n",
       "      <th>promoted</th>\n",
       "      <th>review</th>\n",
       "      <th>projects</th>\n",
       "      <th>salary</th>\n",
       "      <th>tenure</th>\n",
       "      <th>satisfaction</th>\n",
       "      <th>bonus</th>\n",
       "      <th>avg_hrs_month</th>\n",
       "      <th>left</th>\n",
       "    </tr>\n",
       "  </thead>\n",
       "  <tbody>\n",
       "    <tr>\n",
       "      <th>0</th>\n",
       "      <td>operations</td>\n",
       "      <td>0</td>\n",
       "      <td>0.577569</td>\n",
       "      <td>3</td>\n",
       "      <td>low</td>\n",
       "      <td>5.0</td>\n",
       "      <td>0.626759</td>\n",
       "      <td>0</td>\n",
       "      <td>180.866070</td>\n",
       "      <td>no</td>\n",
       "    </tr>\n",
       "    <tr>\n",
       "      <th>1</th>\n",
       "      <td>operations</td>\n",
       "      <td>0</td>\n",
       "      <td>0.751900</td>\n",
       "      <td>3</td>\n",
       "      <td>medium</td>\n",
       "      <td>6.0</td>\n",
       "      <td>0.443679</td>\n",
       "      <td>0</td>\n",
       "      <td>182.708149</td>\n",
       "      <td>no</td>\n",
       "    </tr>\n",
       "    <tr>\n",
       "      <th>2</th>\n",
       "      <td>support</td>\n",
       "      <td>0</td>\n",
       "      <td>0.722548</td>\n",
       "      <td>3</td>\n",
       "      <td>medium</td>\n",
       "      <td>6.0</td>\n",
       "      <td>0.446823</td>\n",
       "      <td>0</td>\n",
       "      <td>184.416084</td>\n",
       "      <td>no</td>\n",
       "    </tr>\n",
       "    <tr>\n",
       "      <th>3</th>\n",
       "      <td>logistics</td>\n",
       "      <td>0</td>\n",
       "      <td>0.675158</td>\n",
       "      <td>4</td>\n",
       "      <td>high</td>\n",
       "      <td>8.0</td>\n",
       "      <td>0.440139</td>\n",
       "      <td>0</td>\n",
       "      <td>188.707545</td>\n",
       "      <td>no</td>\n",
       "    </tr>\n",
       "    <tr>\n",
       "      <th>4</th>\n",
       "      <td>sales</td>\n",
       "      <td>0</td>\n",
       "      <td>0.676203</td>\n",
       "      <td>3</td>\n",
       "      <td>high</td>\n",
       "      <td>5.0</td>\n",
       "      <td>0.577607</td>\n",
       "      <td>1</td>\n",
       "      <td>179.821083</td>\n",
       "      <td>no</td>\n",
       "    </tr>\n",
       "  </tbody>\n",
       "</table>\n",
       "</div>"
      ],
      "text/plain": [
       "   department  promoted    review  projects  salary  tenure  satisfaction  \\\n",
       "0  operations         0  0.577569         3     low     5.0      0.626759   \n",
       "1  operations         0  0.751900         3  medium     6.0      0.443679   \n",
       "2     support         0  0.722548         3  medium     6.0      0.446823   \n",
       "3   logistics         0  0.675158         4    high     8.0      0.440139   \n",
       "4       sales         0  0.676203         3    high     5.0      0.577607   \n",
       "\n",
       "   bonus  avg_hrs_month left  \n",
       "0      0     180.866070   no  \n",
       "1      0     182.708149   no  \n",
       "2      0     184.416084   no  \n",
       "3      0     188.707545   no  \n",
       "4      1     179.821083   no  "
      ]
     },
     "execution_count": 1,
     "metadata": {},
     "output_type": "execute_result"
    }
   ],
   "source": [
    "import pandas as pd\n",
    "df = pd.read_csv('./data/employee_churn_data.csv')\n",
    "df.head()"
   ]
  },
  {
   "cell_type": "markdown",
   "id": "35dd672a",
   "metadata": {},
   "source": [
    "## 💪 Competition challenge\n",
    "\n",
    "Create a report that covers the following:\n",
    "1. Which department has the highest employee turnover? Which one has the lowest?\n",
    "2. Investigate which variables seem to be better predictors of employee departure.\n",
    "3. What recommendations would you make regarding ways to reduce employee turnover?"
   ]
  },
  {
   "cell_type": "markdown",
   "id": "6b2a67e5",
   "metadata": {},
   "source": [
    "## 🧑‍⚖️ Judging criteria\n",
    "\n",
    "| CATEGORY | WEIGHTING | DETAILS                                                              |\n",
    "|:---------|:----------|:---------------------------------------------------------------------|\n",
    "| **Recommendations** | 35%       | <ul><li>Clarity of recommendations - how clear and well presented the recommendation is.</li><li>Quality of recommendations - are appropriate analytical techniques used & are the conclusions valid?</li><li>Number of relevant insights found for the target audience.</li></ul>       |\n",
    "| **Storytelling**  | 35%       | <ul><li>How well the data and insights are connected to the recommendation.</li><li>How the narrative and whole report connects together.</li><li>Balancing making the report in-depth enough but also concise.</li></ul> |\n",
    "| **Visualizations** | 20% | <ul><li>Appropriateness of visualization used.</li><li>Clarity of insight from visualization.</li></ul> |\n",
    "| **Votes** | 10% | <ul><li>Up voting - most upvoted entries get the most points.</li></ul> |"
   ]
  },
  {
   "cell_type": "markdown",
   "id": "ea066143",
   "metadata": {},
   "source": [
    "## ✅ Checklist before publishing into the competition\n",
    "- Rename your workspace to make it descriptive of your work. N.B. you should leave the notebook name as notebook.ipynb.\n",
    "- Remove redundant cells like the judging criteria, so the workbook is focused on your story.\n",
    "- Make sure the workbook reads well and explains how you found your insights.\n",
    "- Check that all the cells run without error."
   ]
  },
  {
   "cell_type": "markdown",
   "id": "41507786",
   "metadata": {},
   "source": [
    "## ⌛️ Time is ticking. Good luck!"
   ]
  },
  {
   "cell_type": "code",
   "execution_count": 2,
   "id": "f317b336",
   "metadata": {},
   "outputs": [],
   "source": [
    "import numpy as np\n",
    "import pandas as pd\n",
    "import seaborn as sns\n",
    "import matplotlib.pyplot as plt\n",
    "from sklearn.model_selection import train_test_split\n",
    "from sklearn.preprocessing import MinMaxScaler\n",
    "from sklearn.linear_model import LinearRegression, LogisticRegression\n",
    "from imblearn.over_sampling import SMOTE\n",
    "from sklearn.metrics import accuracy_score, recall_score, confusion_matrix, f1_score,  # I added in F1 score\n",
    "from sklearn.ensemble import RandomForestClassifier\n"
   ]
  },
  {
   "cell_type": "code",
   "execution_count": 3,
   "id": "62f52248",
   "metadata": {},
   "outputs": [],
   "source": [
    "# settings to display all columns\n",
    "pd.set_option(\"display.max_columns\", None)"
   ]
  },
  {
   "cell_type": "code",
   "execution_count": 4,
   "id": "b7cd71dc",
   "metadata": {
    "scrolled": false
   },
   "outputs": [
    {
     "data": {
      "text/html": [
       "<div>\n",
       "<style scoped>\n",
       "    .dataframe tbody tr th:only-of-type {\n",
       "        vertical-align: middle;\n",
       "    }\n",
       "\n",
       "    .dataframe tbody tr th {\n",
       "        vertical-align: top;\n",
       "    }\n",
       "\n",
       "    .dataframe thead th {\n",
       "        text-align: right;\n",
       "    }\n",
       "</style>\n",
       "<table border=\"1\" class=\"dataframe\">\n",
       "  <thead>\n",
       "    <tr style=\"text-align: right;\">\n",
       "      <th></th>\n",
       "      <th>department</th>\n",
       "      <th>promoted</th>\n",
       "      <th>review</th>\n",
       "      <th>projects</th>\n",
       "      <th>salary</th>\n",
       "      <th>tenure</th>\n",
       "      <th>satisfaction</th>\n",
       "      <th>bonus</th>\n",
       "      <th>avg_hrs_month</th>\n",
       "      <th>left</th>\n",
       "    </tr>\n",
       "  </thead>\n",
       "  <tbody>\n",
       "    <tr>\n",
       "      <th>6181</th>\n",
       "      <td>retail</td>\n",
       "      <td>0</td>\n",
       "      <td>0.546166</td>\n",
       "      <td>3</td>\n",
       "      <td>low</td>\n",
       "      <td>7.0</td>\n",
       "      <td>0.391239</td>\n",
       "      <td>0</td>\n",
       "      <td>186.630537</td>\n",
       "      <td>no</td>\n",
       "    </tr>\n",
       "    <tr>\n",
       "      <th>3894</th>\n",
       "      <td>sales</td>\n",
       "      <td>0</td>\n",
       "      <td>0.715041</td>\n",
       "      <td>3</td>\n",
       "      <td>high</td>\n",
       "      <td>7.0</td>\n",
       "      <td>0.282555</td>\n",
       "      <td>0</td>\n",
       "      <td>185.384789</td>\n",
       "      <td>yes</td>\n",
       "    </tr>\n",
       "    <tr>\n",
       "      <th>6413</th>\n",
       "      <td>retail</td>\n",
       "      <td>0</td>\n",
       "      <td>0.508088</td>\n",
       "      <td>3</td>\n",
       "      <td>medium</td>\n",
       "      <td>9.0</td>\n",
       "      <td>0.511084</td>\n",
       "      <td>1</td>\n",
       "      <td>191.683165</td>\n",
       "      <td>no</td>\n",
       "    </tr>\n",
       "    <tr>\n",
       "      <th>8625</th>\n",
       "      <td>sales</td>\n",
       "      <td>0</td>\n",
       "      <td>0.435581</td>\n",
       "      <td>3</td>\n",
       "      <td>medium</td>\n",
       "      <td>7.0</td>\n",
       "      <td>0.715550</td>\n",
       "      <td>0</td>\n",
       "      <td>185.617158</td>\n",
       "      <td>yes</td>\n",
       "    </tr>\n",
       "    <tr>\n",
       "      <th>1315</th>\n",
       "      <td>sales</td>\n",
       "      <td>0</td>\n",
       "      <td>0.733536</td>\n",
       "      <td>3</td>\n",
       "      <td>medium</td>\n",
       "      <td>5.0</td>\n",
       "      <td>0.585002</td>\n",
       "      <td>0</td>\n",
       "      <td>178.580570</td>\n",
       "      <td>no</td>\n",
       "    </tr>\n",
       "  </tbody>\n",
       "</table>\n",
       "</div>"
      ],
      "text/plain": [
       "     department  promoted    review  projects  salary  tenure  satisfaction  \\\n",
       "6181     retail         0  0.546166         3     low     7.0      0.391239   \n",
       "3894      sales         0  0.715041         3    high     7.0      0.282555   \n",
       "6413     retail         0  0.508088         3  medium     9.0      0.511084   \n",
       "8625      sales         0  0.435581         3  medium     7.0      0.715550   \n",
       "1315      sales         0  0.733536         3  medium     5.0      0.585002   \n",
       "\n",
       "      bonus  avg_hrs_month left  \n",
       "6181      0     186.630537   no  \n",
       "3894      0     185.384789  yes  \n",
       "6413      1     191.683165   no  \n",
       "8625      0     185.617158  yes  \n",
       "1315      0     178.580570   no  "
      ]
     },
     "execution_count": 4,
     "metadata": {},
     "output_type": "execute_result"
    }
   ],
   "source": [
    "df.sample(5)"
   ]
  },
  {
   "cell_type": "code",
   "execution_count": 5,
   "id": "7920805d",
   "metadata": {},
   "outputs": [
    {
     "data": {
      "text/plain": [
       "(9540, 10)"
      ]
     },
     "execution_count": 5,
     "metadata": {},
     "output_type": "execute_result"
    }
   ],
   "source": [
    "df.shape"
   ]
  },
  {
   "cell_type": "markdown",
   "id": "3f7f5e77",
   "metadata": {},
   "source": [
    "## Converting the target to numerical: 0 if No and 1 if Yes they left the company"
   ]
  },
  {
   "cell_type": "markdown",
   "id": "276500c3",
   "metadata": {},
   "source": [
    "## 0 == NO (Negative) 1 == YES (Positive)\n",
    "\n",
    "## I should always do it like this as it makes interpretation of the Confustion Matrix\n",
    "## easy "
   ]
  },
  {
   "cell_type": "code",
   "execution_count": 6,
   "id": "86978692",
   "metadata": {},
   "outputs": [
    {
     "data": {
      "text/plain": [
       "True"
      ]
     },
     "execution_count": 6,
     "metadata": {},
     "output_type": "execute_result"
    }
   ],
   "source": [
    "False == 0"
   ]
  },
  {
   "cell_type": "code",
   "execution_count": 7,
   "id": "d0bc8bdf",
   "metadata": {},
   "outputs": [
    {
     "data": {
      "text/plain": [
       "True"
      ]
     },
     "execution_count": 7,
     "metadata": {},
     "output_type": "execute_result"
    }
   ],
   "source": [
    "True == 1"
   ]
  },
  {
   "cell_type": "markdown",
   "id": "0810d900",
   "metadata": {},
   "source": [
    "#### Using apply() or map():\n",
    "https://towardsdatascience.com/apply-function-to-columns-in-pandas-60b01c41c485\n",
    "\n",
    "#### Lambda function:\n",
    "\n",
    "https://www.analyticsvidhya.com/blog/2020/03/what-are-lambda-functions-in-python/"
   ]
  },
  {
   "cell_type": "code",
   "execution_count": 8,
   "id": "c23838b3",
   "metadata": {},
   "outputs": [],
   "source": [
    "df['left'] = df['left'].map(lambda x: 0 if x == 'no' else 1 )\n",
    "# df['category']=df['age'].apply(lambda x: 'Adult' if x>=18 else 'Child') # I think this is using list comprehension"
   ]
  },
  {
   "cell_type": "code",
   "execution_count": 9,
   "id": "d5591ab3",
   "metadata": {},
   "outputs": [
    {
     "data": {
      "text/html": [
       "<div>\n",
       "<style scoped>\n",
       "    .dataframe tbody tr th:only-of-type {\n",
       "        vertical-align: middle;\n",
       "    }\n",
       "\n",
       "    .dataframe tbody tr th {\n",
       "        vertical-align: top;\n",
       "    }\n",
       "\n",
       "    .dataframe thead th {\n",
       "        text-align: right;\n",
       "    }\n",
       "</style>\n",
       "<table border=\"1\" class=\"dataframe\">\n",
       "  <thead>\n",
       "    <tr style=\"text-align: right;\">\n",
       "      <th></th>\n",
       "      <th>department</th>\n",
       "      <th>promoted</th>\n",
       "      <th>review</th>\n",
       "      <th>projects</th>\n",
       "      <th>salary</th>\n",
       "      <th>tenure</th>\n",
       "      <th>satisfaction</th>\n",
       "      <th>bonus</th>\n",
       "      <th>avg_hrs_month</th>\n",
       "      <th>left</th>\n",
       "    </tr>\n",
       "  </thead>\n",
       "  <tbody>\n",
       "    <tr>\n",
       "      <th>7312</th>\n",
       "      <td>finance</td>\n",
       "      <td>0</td>\n",
       "      <td>0.609522</td>\n",
       "      <td>3</td>\n",
       "      <td>medium</td>\n",
       "      <td>9.0</td>\n",
       "      <td>0.511614</td>\n",
       "      <td>0</td>\n",
       "      <td>190.539498</td>\n",
       "      <td>0</td>\n",
       "    </tr>\n",
       "    <tr>\n",
       "      <th>6721</th>\n",
       "      <td>finance</td>\n",
       "      <td>1</td>\n",
       "      <td>0.634358</td>\n",
       "      <td>3</td>\n",
       "      <td>medium</td>\n",
       "      <td>9.0</td>\n",
       "      <td>0.517236</td>\n",
       "      <td>0</td>\n",
       "      <td>192.424167</td>\n",
       "      <td>0</td>\n",
       "    </tr>\n",
       "    <tr>\n",
       "      <th>7382</th>\n",
       "      <td>retail</td>\n",
       "      <td>0</td>\n",
       "      <td>0.584867</td>\n",
       "      <td>4</td>\n",
       "      <td>medium</td>\n",
       "      <td>5.0</td>\n",
       "      <td>0.307826</td>\n",
       "      <td>0</td>\n",
       "      <td>181.230315</td>\n",
       "      <td>0</td>\n",
       "    </tr>\n",
       "    <tr>\n",
       "      <th>329</th>\n",
       "      <td>retail</td>\n",
       "      <td>0</td>\n",
       "      <td>0.491938</td>\n",
       "      <td>3</td>\n",
       "      <td>high</td>\n",
       "      <td>6.0</td>\n",
       "      <td>0.732553</td>\n",
       "      <td>0</td>\n",
       "      <td>183.085605</td>\n",
       "      <td>0</td>\n",
       "    </tr>\n",
       "    <tr>\n",
       "      <th>2946</th>\n",
       "      <td>logistics</td>\n",
       "      <td>0</td>\n",
       "      <td>0.667150</td>\n",
       "      <td>3</td>\n",
       "      <td>medium</td>\n",
       "      <td>4.0</td>\n",
       "      <td>0.723047</td>\n",
       "      <td>1</td>\n",
       "      <td>178.041135</td>\n",
       "      <td>0</td>\n",
       "    </tr>\n",
       "  </tbody>\n",
       "</table>\n",
       "</div>"
      ],
      "text/plain": [
       "     department  promoted    review  projects  salary  tenure  satisfaction  \\\n",
       "7312    finance         0  0.609522         3  medium     9.0      0.511614   \n",
       "6721    finance         1  0.634358         3  medium     9.0      0.517236   \n",
       "7382     retail         0  0.584867         4  medium     5.0      0.307826   \n",
       "329      retail         0  0.491938         3    high     6.0      0.732553   \n",
       "2946  logistics         0  0.667150         3  medium     4.0      0.723047   \n",
       "\n",
       "      bonus  avg_hrs_month  left  \n",
       "7312      0     190.539498     0  \n",
       "6721      0     192.424167     0  \n",
       "7382      0     181.230315     0  \n",
       "329       0     183.085605     0  \n",
       "2946      1     178.041135     0  "
      ]
     },
     "execution_count": 9,
     "metadata": {},
     "output_type": "execute_result"
    }
   ],
   "source": [
    "df.sample(5)"
   ]
  },
  {
   "cell_type": "markdown",
   "id": "4c133fa9",
   "metadata": {},
   "source": [
    "## Split the data into testing and training"
   ]
  },
  {
   "cell_type": "code",
   "execution_count": 10,
   "id": "0ca2b3e7",
   "metadata": {},
   "outputs": [
    {
     "data": {
      "text/html": [
       "<div>\n",
       "<style scoped>\n",
       "    .dataframe tbody tr th:only-of-type {\n",
       "        vertical-align: middle;\n",
       "    }\n",
       "\n",
       "    .dataframe tbody tr th {\n",
       "        vertical-align: top;\n",
       "    }\n",
       "\n",
       "    .dataframe thead th {\n",
       "        text-align: right;\n",
       "    }\n",
       "</style>\n",
       "<table border=\"1\" class=\"dataframe\">\n",
       "  <thead>\n",
       "    <tr style=\"text-align: right;\">\n",
       "      <th></th>\n",
       "      <th>department</th>\n",
       "      <th>promoted</th>\n",
       "      <th>review</th>\n",
       "      <th>projects</th>\n",
       "      <th>salary</th>\n",
       "      <th>tenure</th>\n",
       "      <th>satisfaction</th>\n",
       "      <th>bonus</th>\n",
       "      <th>avg_hrs_month</th>\n",
       "      <th>left</th>\n",
       "    </tr>\n",
       "  </thead>\n",
       "  <tbody>\n",
       "    <tr>\n",
       "      <th>0</th>\n",
       "      <td>operations</td>\n",
       "      <td>0</td>\n",
       "      <td>0.577569</td>\n",
       "      <td>3</td>\n",
       "      <td>low</td>\n",
       "      <td>5.0</td>\n",
       "      <td>0.626759</td>\n",
       "      <td>0</td>\n",
       "      <td>180.866070</td>\n",
       "      <td>0</td>\n",
       "    </tr>\n",
       "    <tr>\n",
       "      <th>1</th>\n",
       "      <td>operations</td>\n",
       "      <td>0</td>\n",
       "      <td>0.751900</td>\n",
       "      <td>3</td>\n",
       "      <td>medium</td>\n",
       "      <td>6.0</td>\n",
       "      <td>0.443679</td>\n",
       "      <td>0</td>\n",
       "      <td>182.708149</td>\n",
       "      <td>0</td>\n",
       "    </tr>\n",
       "    <tr>\n",
       "      <th>2</th>\n",
       "      <td>support</td>\n",
       "      <td>0</td>\n",
       "      <td>0.722548</td>\n",
       "      <td>3</td>\n",
       "      <td>medium</td>\n",
       "      <td>6.0</td>\n",
       "      <td>0.446823</td>\n",
       "      <td>0</td>\n",
       "      <td>184.416084</td>\n",
       "      <td>0</td>\n",
       "    </tr>\n",
       "  </tbody>\n",
       "</table>\n",
       "</div>"
      ],
      "text/plain": [
       "   department  promoted    review  projects  salary  tenure  satisfaction  \\\n",
       "0  operations         0  0.577569         3     low     5.0      0.626759   \n",
       "1  operations         0  0.751900         3  medium     6.0      0.443679   \n",
       "2     support         0  0.722548         3  medium     6.0      0.446823   \n",
       "\n",
       "   bonus  avg_hrs_month  left  \n",
       "0      0     180.866070     0  \n",
       "1      0     182.708149     0  \n",
       "2      0     184.416084     0  "
      ]
     },
     "execution_count": 10,
     "metadata": {},
     "output_type": "execute_result"
    }
   ],
   "source": [
    "X = df.drop(columns=['left'])\n",
    "y = df[['left']]\n",
    "\n",
    "df.head(3)"
   ]
  },
  {
   "cell_type": "code",
   "execution_count": 11,
   "id": "f2075bd0",
   "metadata": {},
   "outputs": [],
   "source": [
    "# Split dataset into training set and test set\n",
    "X_train, X_test, y_train, y_test = train_test_split(X, y, test_size=0.2, random_state=55) # 80% training and 20% test"
   ]
  },
  {
   "cell_type": "markdown",
   "id": "9421a2e9",
   "metadata": {},
   "source": [
    "## Performing EDA"
   ]
  },
  {
   "cell_type": "code",
   "execution_count": 12,
   "id": "bdbb021e",
   "metadata": {},
   "outputs": [
    {
     "data": {
      "text/plain": [
       "0    5373\n",
       "1    2259\n",
       "Name: left, dtype: int64"
      ]
     },
     "execution_count": 12,
     "metadata": {},
     "output_type": "execute_result"
    }
   ],
   "source": [
    "y_train['left'].value_counts()"
   ]
  },
  {
   "cell_type": "code",
   "execution_count": 13,
   "id": "1f0da9ad",
   "metadata": {
    "scrolled": true
   },
   "outputs": [
    {
     "data": {
      "text/plain": [
       "<AxesSubplot:xlabel='left'>"
      ]
     },
     "execution_count": 13,
     "metadata": {},
     "output_type": "execute_result"
    },
    {
     "data": {
      "image/png": "[encoded data removed]",
      "text/plain": [
       "<Figure size 432x288 with 1 Axes>"
      ]
     },
     "metadata": {
      "needs_background": "light"
     },
     "output_type": "display_data"
    }
   ],
   "source": [
    "y_train.groupby(\"left\")['left'].count().plot.bar()"
   ]
  },
  {
   "cell_type": "code",
   "execution_count": 14,
   "id": "b7801d5f",
   "metadata": {
    "scrolled": true
   },
   "outputs": [
    {
     "data": {
      "image/png": "[encoded data removed]",
      "text/plain": [
       "<Figure size 432x288 with 1 Axes>"
      ]
     },
     "metadata": {},
     "output_type": "display_data"
    }
   ],
   "source": [
    "sns.set_theme(style=\"darkgrid\")\n",
    "ax = sns.countplot(x=\"left\", data=y_train)"
   ]
  },
  {
   "cell_type": "markdown",
   "id": "687eaf4d",
   "metadata": {},
   "source": [
    "I got count plot from:https://www.kaggle.com/jchen2186/data-visualization-with-python-seaborn\n",
    "\n",
    "https://seaborn.pydata.org/generated/seaborn.countplot.html"
   ]
  },
  {
   "cell_type": "markdown",
   "id": "fc82d726",
   "metadata": {},
   "source": [
    "#### From this we can see that the data is imbalanced towards there being less people leaving the company as expected."
   ]
  },
  {
   "cell_type": "code",
   "execution_count": 15,
   "id": "2b26e7cf",
   "metadata": {},
   "outputs": [
    {
     "data": {
      "text/html": [
       "<div>\n",
       "<style scoped>\n",
       "    .dataframe tbody tr th:only-of-type {\n",
       "        vertical-align: middle;\n",
       "    }\n",
       "\n",
       "    .dataframe tbody tr th {\n",
       "        vertical-align: top;\n",
       "    }\n",
       "\n",
       "    .dataframe thead th {\n",
       "        text-align: right;\n",
       "    }\n",
       "</style>\n",
       "<table border=\"1\" class=\"dataframe\">\n",
       "  <thead>\n",
       "    <tr style=\"text-align: right;\">\n",
       "      <th></th>\n",
       "      <th>department</th>\n",
       "      <th>promoted</th>\n",
       "      <th>review</th>\n",
       "      <th>projects</th>\n",
       "      <th>salary</th>\n",
       "      <th>tenure</th>\n",
       "      <th>satisfaction</th>\n",
       "      <th>bonus</th>\n",
       "      <th>avg_hrs_month</th>\n",
       "    </tr>\n",
       "  </thead>\n",
       "  <tbody>\n",
       "    <tr>\n",
       "      <th>6870</th>\n",
       "      <td>retail</td>\n",
       "      <td>0</td>\n",
       "      <td>0.698283</td>\n",
       "      <td>3</td>\n",
       "      <td>medium</td>\n",
       "      <td>10.0</td>\n",
       "      <td>0.561656</td>\n",
       "      <td>0</td>\n",
       "      <td>195.494929</td>\n",
       "    </tr>\n",
       "    <tr>\n",
       "      <th>8889</th>\n",
       "      <td>operations</td>\n",
       "      <td>0</td>\n",
       "      <td>0.487040</td>\n",
       "      <td>3</td>\n",
       "      <td>medium</td>\n",
       "      <td>7.0</td>\n",
       "      <td>0.730389</td>\n",
       "      <td>0</td>\n",
       "      <td>185.707273</td>\n",
       "    </tr>\n",
       "    <tr>\n",
       "      <th>7058</th>\n",
       "      <td>marketing</td>\n",
       "      <td>0</td>\n",
       "      <td>0.572762</td>\n",
       "      <td>3</td>\n",
       "      <td>medium</td>\n",
       "      <td>8.0</td>\n",
       "      <td>0.351720</td>\n",
       "      <td>0</td>\n",
       "      <td>189.038025</td>\n",
       "    </tr>\n",
       "  </tbody>\n",
       "</table>\n",
       "</div>"
      ],
      "text/plain": [
       "      department  promoted    review  projects  salary  tenure  satisfaction  \\\n",
       "6870      retail         0  0.698283         3  medium    10.0      0.561656   \n",
       "8889  operations         0  0.487040         3  medium     7.0      0.730389   \n",
       "7058   marketing         0  0.572762         3  medium     8.0      0.351720   \n",
       "\n",
       "      bonus  avg_hrs_month  \n",
       "6870      0     195.494929  \n",
       "8889      0     185.707273  \n",
       "7058      0     189.038025  "
      ]
     },
     "execution_count": 15,
     "metadata": {},
     "output_type": "execute_result"
    }
   ],
   "source": [
    "X_train.head(3)"
   ]
  },
  {
   "cell_type": "code",
   "execution_count": 16,
   "id": "a84d2ef8",
   "metadata": {
    "scrolled": false
   },
   "outputs": [
    {
     "name": "stdout",
     "output_type": "stream",
     "text": [
      "<class 'pandas.core.frame.DataFrame'>\n",
      "Int64Index: 7632 entries, 6870 to 4762\n",
      "Data columns (total 9 columns):\n",
      " #   Column         Non-Null Count  Dtype  \n",
      "---  ------         --------------  -----  \n",
      " 0   department     7632 non-null   object \n",
      " 1   promoted       7632 non-null   int64  \n",
      " 2   review         7632 non-null   float64\n",
      " 3   projects       7632 non-null   int64  \n",
      " 4   salary         7632 non-null   object \n",
      " 5   tenure         7632 non-null   float64\n",
      " 6   satisfaction   7632 non-null   float64\n",
      " 7   bonus          7632 non-null   int64  \n",
      " 8   avg_hrs_month  7632 non-null   float64\n",
      "dtypes: float64(4), int64(3), object(2)\n",
      "memory usage: 596.2+ KB\n"
     ]
    }
   ],
   "source": [
    "X_train.info()"
   ]
  },
  {
   "cell_type": "code",
   "execution_count": 17,
   "id": "8be13ee9",
   "metadata": {
    "scrolled": true
   },
   "outputs": [
    {
     "data": {
      "text/plain": [
       "department        object\n",
       "promoted           int64\n",
       "review           float64\n",
       "projects           int64\n",
       "salary            object\n",
       "tenure           float64\n",
       "satisfaction     float64\n",
       "bonus              int64\n",
       "avg_hrs_month    float64\n",
       "dtype: object"
      ]
     },
     "execution_count": 17,
     "metadata": {},
     "output_type": "execute_result"
    }
   ],
   "source": [
    "X_train.dtypes"
   ]
  },
  {
   "cell_type": "code",
   "execution_count": 18,
   "id": "070ba994",
   "metadata": {},
   "outputs": [
    {
     "data": {
      "text/plain": [
       "department       0\n",
       "promoted         0\n",
       "review           0\n",
       "projects         0\n",
       "salary           0\n",
       "tenure           0\n",
       "satisfaction     0\n",
       "bonus            0\n",
       "avg_hrs_month    0\n",
       "dtype: int64"
      ]
     },
     "execution_count": 18,
     "metadata": {},
     "output_type": "execute_result"
    }
   ],
   "source": [
    "X_train.isnull().sum()"
   ]
  },
  {
   "cell_type": "markdown",
   "id": "68adec42",
   "metadata": {},
   "source": [
    "#### '''From this we can see that there are no missing values, hence we don't have to impute for missing values.'''"
   ]
  },
  {
   "cell_type": "code",
   "execution_count": 19,
   "id": "6bd12b9b",
   "metadata": {
    "scrolled": true
   },
   "outputs": [
    {
     "data": {
      "text/html": [
       "<div>\n",
       "<style scoped>\n",
       "    .dataframe tbody tr th:only-of-type {\n",
       "        vertical-align: middle;\n",
       "    }\n",
       "\n",
       "    .dataframe tbody tr th {\n",
       "        vertical-align: top;\n",
       "    }\n",
       "\n",
       "    .dataframe thead th {\n",
       "        text-align: right;\n",
       "    }\n",
       "</style>\n",
       "<table border=\"1\" class=\"dataframe\">\n",
       "  <thead>\n",
       "    <tr style=\"text-align: right;\">\n",
       "      <th></th>\n",
       "      <th>count</th>\n",
       "      <th>mean</th>\n",
       "      <th>std</th>\n",
       "      <th>min</th>\n",
       "      <th>25%</th>\n",
       "      <th>50%</th>\n",
       "      <th>75%</th>\n",
       "      <th>max</th>\n",
       "    </tr>\n",
       "  </thead>\n",
       "  <tbody>\n",
       "    <tr>\n",
       "      <th>promoted</th>\n",
       "      <td>7632.0</td>\n",
       "      <td>0.029481</td>\n",
       "      <td>0.169162</td>\n",
       "      <td>0.00000</td>\n",
       "      <td>0.000000</td>\n",
       "      <td>0.000000</td>\n",
       "      <td>0.000000</td>\n",
       "      <td>1.000000</td>\n",
       "    </tr>\n",
       "    <tr>\n",
       "      <th>review</th>\n",
       "      <td>7632.0</td>\n",
       "      <td>0.652755</td>\n",
       "      <td>0.084937</td>\n",
       "      <td>0.31000</td>\n",
       "      <td>0.593765</td>\n",
       "      <td>0.648798</td>\n",
       "      <td>0.708902</td>\n",
       "      <td>1.000000</td>\n",
       "    </tr>\n",
       "    <tr>\n",
       "      <th>projects</th>\n",
       "      <td>7632.0</td>\n",
       "      <td>3.278171</td>\n",
       "      <td>0.577211</td>\n",
       "      <td>2.00000</td>\n",
       "      <td>3.000000</td>\n",
       "      <td>3.000000</td>\n",
       "      <td>4.000000</td>\n",
       "      <td>5.000000</td>\n",
       "    </tr>\n",
       "    <tr>\n",
       "      <th>tenure</th>\n",
       "      <td>7632.0</td>\n",
       "      <td>6.563024</td>\n",
       "      <td>1.423251</td>\n",
       "      <td>2.00000</td>\n",
       "      <td>5.000000</td>\n",
       "      <td>7.000000</td>\n",
       "      <td>8.000000</td>\n",
       "      <td>12.000000</td>\n",
       "    </tr>\n",
       "    <tr>\n",
       "      <th>satisfaction</th>\n",
       "      <td>7632.0</td>\n",
       "      <td>0.504724</td>\n",
       "      <td>0.158068</td>\n",
       "      <td>0.00000</td>\n",
       "      <td>0.387867</td>\n",
       "      <td>0.500664</td>\n",
       "      <td>0.622412</td>\n",
       "      <td>0.985067</td>\n",
       "    </tr>\n",
       "    <tr>\n",
       "      <th>bonus</th>\n",
       "      <td>7632.0</td>\n",
       "      <td>0.212002</td>\n",
       "      <td>0.408753</td>\n",
       "      <td>0.00000</td>\n",
       "      <td>0.000000</td>\n",
       "      <td>0.000000</td>\n",
       "      <td>0.000000</td>\n",
       "      <td>1.000000</td>\n",
       "    </tr>\n",
       "    <tr>\n",
       "      <th>avg_hrs_month</th>\n",
       "      <td>7632.0</td>\n",
       "      <td>184.684103</td>\n",
       "      <td>4.169327</td>\n",
       "      <td>171.37406</td>\n",
       "      <td>181.498773</td>\n",
       "      <td>184.662973</td>\n",
       "      <td>187.749006</td>\n",
       "      <td>200.861656</td>\n",
       "    </tr>\n",
       "  </tbody>\n",
       "</table>\n",
       "</div>"
      ],
      "text/plain": [
       "                count        mean       std        min         25%  \\\n",
       "promoted       7632.0    0.029481  0.169162    0.00000    0.000000   \n",
       "review         7632.0    0.652755  0.084937    0.31000    0.593765   \n",
       "projects       7632.0    3.278171  0.577211    2.00000    3.000000   \n",
       "tenure         7632.0    6.563024  1.423251    2.00000    5.000000   \n",
       "satisfaction   7632.0    0.504724  0.158068    0.00000    0.387867   \n",
       "bonus          7632.0    0.212002  0.408753    0.00000    0.000000   \n",
       "avg_hrs_month  7632.0  184.684103  4.169327  171.37406  181.498773   \n",
       "\n",
       "                      50%         75%         max  \n",
       "promoted         0.000000    0.000000    1.000000  \n",
       "review           0.648798    0.708902    1.000000  \n",
       "projects         3.000000    4.000000    5.000000  \n",
       "tenure           7.000000    8.000000   12.000000  \n",
       "satisfaction     0.500664    0.622412    0.985067  \n",
       "bonus            0.000000    0.000000    1.000000  \n",
       "avg_hrs_month  184.662973  187.749006  200.861656  "
      ]
     },
     "execution_count": 19,
     "metadata": {},
     "output_type": "execute_result"
    }
   ],
   "source": [
    "X_train.describe().transpose()"
   ]
  },
  {
   "cell_type": "markdown",
   "id": "6041f882",
   "metadata": {},
   "source": [
    "####  so we see here that Categorical variables ['promoted', 'bonus'] are already numerical so I won't have to convert it into dummies later.\n",
    "\n",
    "#### ['department', 'salary'] are categorical and would have to be converted into dummies\n",
    "\n",
    "#### ['review', 'satisfaction'] are already between 0 and 1 so I won't have to normalise these.\n",
    "\n",
    "#### ['projects', 'tenure', 'avg_hrs_month'] would have to be normalised"
   ]
  },
  {
   "cell_type": "markdown",
   "id": "edee9891",
   "metadata": {},
   "source": [
    "#### Understanding Boxplots:\n",
    "https://towardsdatascience.com/understanding-boxplots-5e2df7bcbd51#:~:text=A%20boxplot%20is%20a%20standardized,and%20what%20their%20values%20are."
   ]
  },
  {
   "cell_type": "markdown",
   "id": "c0a96324",
   "metadata": {},
   "source": [
    "#### Drawing a boxplot:\n",
    "From this link: https://pythonbasics.org/seaborn-boxplot/ I realised I could just use 'x' or 'y' as the argument = feature to \n",
    "orient it either horizontal or vertical"
   ]
  },
  {
   "cell_type": "code",
   "execution_count": 20,
   "id": "88f1e438",
   "metadata": {},
   "outputs": [
    {
     "data": {
      "image/png": "[encoded data removed]",
      "text/plain": [
       "<Figure size 432x288 with 1 Axes>"
      ]
     },
     "metadata": {},
     "output_type": "display_data"
    }
   ],
   "source": [
    "sns.boxplot( x=X_train[\"review\"] );\n",
    "plt.show()"
   ]
  },
  {
   "cell_type": "code",
   "execution_count": 21,
   "id": "ff624ddd",
   "metadata": {},
   "outputs": [
    {
     "data": {
      "image/png": "[encoded data removed]",
      "text/plain": [
       "<Figure size 432x288 with 1 Axes>"
      ]
     },
     "metadata": {},
     "output_type": "display_data"
    }
   ],
   "source": [
    "sns.boxplot( x=X_train[\"projects\"] );\n",
    "plt.show()"
   ]
  },
  {
   "cell_type": "code",
   "execution_count": 22,
   "id": "176de172",
   "metadata": {},
   "outputs": [
    {
     "data": {
      "image/png": "[encoded data removed]",
      "text/plain": [
       "<Figure size 432x288 with 1 Axes>"
      ]
     },
     "metadata": {},
     "output_type": "display_data"
    }
   ],
   "source": [
    "sns.boxplot( x=X_train[\"tenure\"] );\n",
    "plt.show()"
   ]
  },
  {
   "cell_type": "code",
   "execution_count": 23,
   "id": "5c1e42ce",
   "metadata": {},
   "outputs": [
    {
     "data": {
      "image/png": "[encoded data removed]",
      "text/plain": [
       "<Figure size 432x288 with 1 Axes>"
      ]
     },
     "metadata": {},
     "output_type": "display_data"
    }
   ],
   "source": [
    "sns.boxplot( x=X_train[\"satisfaction\"] );\n",
    "plt.show()"
   ]
  },
  {
   "cell_type": "code",
   "execution_count": 24,
   "id": "740bb191",
   "metadata": {
    "scrolled": true
   },
   "outputs": [
    {
     "data": {
      "image/png": "[encoded data removed]",
      "text/plain": [
       "<Figure size 432x288 with 1 Axes>"
      ]
     },
     "metadata": {},
     "output_type": "display_data"
    }
   ],
   "source": [
    "sns.boxplot( x=X_train[\"avg_hrs_month\"] );\n",
    "plt.show()"
   ]
  },
  {
   "cell_type": "code",
   "execution_count": 25,
   "id": "a4398cef",
   "metadata": {
    "scrolled": false
   },
   "outputs": [
    {
     "data": {
      "image/png": "[encoded data removed]",
      "text/plain": [
       "<Figure size 432x288 with 1 Axes>"
      ]
     },
     "metadata": {},
     "output_type": "display_data"
    }
   ],
   "source": [
    "sns.boxplot( x=X_train[\"bonus\"] );\n",
    "plt.show()"
   ]
  },
  {
   "cell_type": "code",
   "execution_count": 26,
   "id": "ed07e45c",
   "metadata": {
    "scrolled": false
   },
   "outputs": [
    {
     "data": {
      "image/png": "[encoded data removed]",
      "text/plain": [
       "<Figure size 432x288 with 1 Axes>"
      ]
     },
     "metadata": {},
     "output_type": "display_data"
    }
   ],
   "source": [
    "sns.boxplot( x=X_train[\"promoted\"] );\n",
    "plt.show()"
   ]
  },
  {
   "cell_type": "markdown",
   "id": "3656db05",
   "metadata": {},
   "source": [
    "## Creating Dummy Variables"
   ]
  },
  {
   "cell_type": "code",
   "execution_count": 27,
   "id": "468cedb7",
   "metadata": {},
   "outputs": [
    {
     "name": "stdout",
     "output_type": "stream",
     "text": [
      "(7632, 9)\n"
     ]
    }
   ],
   "source": [
    "print(X_train.shape)\n",
    "X_train = pd.get_dummies(X_train, columns = ['department', 'salary'], drop_first = True)"
   ]
  },
  {
   "cell_type": "code",
   "execution_count": 28,
   "id": "2c423cfd",
   "metadata": {
    "scrolled": true
   },
   "outputs": [
    {
     "name": "stdout",
     "output_type": "stream",
     "text": [
      "(7632, 18)\n"
     ]
    }
   ],
   "source": [
    "print(X_train.shape)"
   ]
  },
  {
   "cell_type": "code",
   "execution_count": 29,
   "id": "ac50692d",
   "metadata": {
    "scrolled": true
   },
   "outputs": [
    {
     "data": {
      "text/html": [
       "<div>\n",
       "<style scoped>\n",
       "    .dataframe tbody tr th:only-of-type {\n",
       "        vertical-align: middle;\n",
       "    }\n",
       "\n",
       "    .dataframe tbody tr th {\n",
       "        vertical-align: top;\n",
       "    }\n",
       "\n",
       "    .dataframe thead th {\n",
       "        text-align: right;\n",
       "    }\n",
       "</style>\n",
       "<table border=\"1\" class=\"dataframe\">\n",
       "  <thead>\n",
       "    <tr style=\"text-align: right;\">\n",
       "      <th></th>\n",
       "      <th>promoted</th>\n",
       "      <th>review</th>\n",
       "      <th>projects</th>\n",
       "      <th>tenure</th>\n",
       "      <th>satisfaction</th>\n",
       "      <th>bonus</th>\n",
       "      <th>avg_hrs_month</th>\n",
       "      <th>department_admin</th>\n",
       "      <th>department_engineering</th>\n",
       "      <th>department_finance</th>\n",
       "      <th>department_logistics</th>\n",
       "      <th>department_marketing</th>\n",
       "      <th>department_operations</th>\n",
       "      <th>department_retail</th>\n",
       "      <th>department_sales</th>\n",
       "      <th>department_support</th>\n",
       "      <th>salary_low</th>\n",
       "      <th>salary_medium</th>\n",
       "    </tr>\n",
       "  </thead>\n",
       "  <tbody>\n",
       "    <tr>\n",
       "      <th>6870</th>\n",
       "      <td>0</td>\n",
       "      <td>0.698283</td>\n",
       "      <td>3</td>\n",
       "      <td>10.0</td>\n",
       "      <td>0.561656</td>\n",
       "      <td>0</td>\n",
       "      <td>195.494929</td>\n",
       "      <td>0</td>\n",
       "      <td>0</td>\n",
       "      <td>0</td>\n",
       "      <td>0</td>\n",
       "      <td>0</td>\n",
       "      <td>0</td>\n",
       "      <td>1</td>\n",
       "      <td>0</td>\n",
       "      <td>0</td>\n",
       "      <td>0</td>\n",
       "      <td>1</td>\n",
       "    </tr>\n",
       "    <tr>\n",
       "      <th>8889</th>\n",
       "      <td>0</td>\n",
       "      <td>0.487040</td>\n",
       "      <td>3</td>\n",
       "      <td>7.0</td>\n",
       "      <td>0.730389</td>\n",
       "      <td>0</td>\n",
       "      <td>185.707273</td>\n",
       "      <td>0</td>\n",
       "      <td>0</td>\n",
       "      <td>0</td>\n",
       "      <td>0</td>\n",
       "      <td>0</td>\n",
       "      <td>1</td>\n",
       "      <td>0</td>\n",
       "      <td>0</td>\n",
       "      <td>0</td>\n",
       "      <td>0</td>\n",
       "      <td>1</td>\n",
       "    </tr>\n",
       "    <tr>\n",
       "      <th>7058</th>\n",
       "      <td>0</td>\n",
       "      <td>0.572762</td>\n",
       "      <td>3</td>\n",
       "      <td>8.0</td>\n",
       "      <td>0.351720</td>\n",
       "      <td>0</td>\n",
       "      <td>189.038025</td>\n",
       "      <td>0</td>\n",
       "      <td>0</td>\n",
       "      <td>0</td>\n",
       "      <td>0</td>\n",
       "      <td>1</td>\n",
       "      <td>0</td>\n",
       "      <td>0</td>\n",
       "      <td>0</td>\n",
       "      <td>0</td>\n",
       "      <td>0</td>\n",
       "      <td>1</td>\n",
       "    </tr>\n",
       "    <tr>\n",
       "      <th>8858</th>\n",
       "      <td>0</td>\n",
       "      <td>0.699904</td>\n",
       "      <td>3</td>\n",
       "      <td>8.0</td>\n",
       "      <td>0.458049</td>\n",
       "      <td>0</td>\n",
       "      <td>188.925475</td>\n",
       "      <td>0</td>\n",
       "      <td>0</td>\n",
       "      <td>0</td>\n",
       "      <td>0</td>\n",
       "      <td>0</td>\n",
       "      <td>0</td>\n",
       "      <td>0</td>\n",
       "      <td>0</td>\n",
       "      <td>1</td>\n",
       "      <td>0</td>\n",
       "      <td>1</td>\n",
       "    </tr>\n",
       "    <tr>\n",
       "      <th>8014</th>\n",
       "      <td>0</td>\n",
       "      <td>0.659192</td>\n",
       "      <td>5</td>\n",
       "      <td>9.0</td>\n",
       "      <td>0.479336</td>\n",
       "      <td>0</td>\n",
       "      <td>191.496478</td>\n",
       "      <td>0</td>\n",
       "      <td>0</td>\n",
       "      <td>0</td>\n",
       "      <td>0</td>\n",
       "      <td>0</td>\n",
       "      <td>1</td>\n",
       "      <td>0</td>\n",
       "      <td>0</td>\n",
       "      <td>0</td>\n",
       "      <td>1</td>\n",
       "      <td>0</td>\n",
       "    </tr>\n",
       "  </tbody>\n",
       "</table>\n",
       "</div>"
      ],
      "text/plain": [
       "      promoted    review  projects  tenure  satisfaction  bonus  \\\n",
       "6870         0  0.698283         3    10.0      0.561656      0   \n",
       "8889         0  0.487040         3     7.0      0.730389      0   \n",
       "7058         0  0.572762         3     8.0      0.351720      0   \n",
       "8858         0  0.699904         3     8.0      0.458049      0   \n",
       "8014         0  0.659192         5     9.0      0.479336      0   \n",
       "\n",
       "      avg_hrs_month  department_admin  department_engineering  \\\n",
       "6870     195.494929                 0                       0   \n",
       "8889     185.707273                 0                       0   \n",
       "7058     189.038025                 0                       0   \n",
       "8858     188.925475                 0                       0   \n",
       "8014     191.496478                 0                       0   \n",
       "\n",
       "      department_finance  department_logistics  department_marketing  \\\n",
       "6870                   0                     0                     0   \n",
       "8889                   0                     0                     0   \n",
       "7058                   0                     0                     1   \n",
       "8858                   0                     0                     0   \n",
       "8014                   0                     0                     0   \n",
       "\n",
       "      department_operations  department_retail  department_sales  \\\n",
       "6870                      0                  1                 0   \n",
       "8889                      1                  0                 0   \n",
       "7058                      0                  0                 0   \n",
       "8858                      0                  0                 0   \n",
       "8014                      1                  0                 0   \n",
       "\n",
       "      department_support  salary_low  salary_medium  \n",
       "6870                   0           0              1  \n",
       "8889                   0           0              1  \n",
       "7058                   0           0              1  \n",
       "8858                   1           0              1  \n",
       "8014                   0           1              0  "
      ]
     },
     "execution_count": 29,
     "metadata": {},
     "output_type": "execute_result"
    }
   ],
   "source": [
    "X_train.head()"
   ]
  },
  {
   "cell_type": "markdown",
   "id": "bd84f025",
   "metadata": {},
   "source": [
    "#### Different ways to encode but I don't follow it too much:\n",
    "https://machinelearningmastery.com/one-hot-encoding-for-categorical-data/"
   ]
  },
  {
   "cell_type": "markdown",
   "id": "6b131d77",
   "metadata": {},
   "source": [
    "## Standardizing relevant features: \n",
    "\n",
    "normally I would just use the following code:\n",
    "X_train[features] = pd.DataFrame(scaler.fit_transform(X_train[features]))\n",
    "to change the respective df columns to standardized versions with their name  intact but because I may want to create additional features later from the original data, I first created a separate df with the features scaled, then changed the names on the columns with a suffix 'scaled' and then concat these onto the original df and then dropped the original columns.\n",
    "\n",
    "I only chose 'projects' 'tenure' and 'avg_hrs_month' to standardize because the rest of the columns that were not categorical\n",
    "were already between 0 and 1 like 'review' and 'satisfaction'\n",
    "\n",
    "The other ones like 'promoted' and 'bonus' already came in a categorical format even though they are integers i.e. 0 or 1"
   ]
  },
  {
   "cell_type": "code",
   "execution_count": 30,
   "id": "6d1b3e82",
   "metadata": {},
   "outputs": [],
   "source": [
    "scaler = MinMaxScaler()\n",
    "\n",
    "features = ['projects', 'tenure', 'avg_hrs_month']\n",
    "features_scaled = pd.DataFrame(scaler.fit_transform(X_train[features])) #created a new df with just these 3 scaled features"
   ]
  },
  {
   "cell_type": "code",
   "execution_count": 31,
   "id": "201c52e1",
   "metadata": {
    "scrolled": true
   },
   "outputs": [
    {
     "data": {
      "text/html": [
       "<div>\n",
       "<style scoped>\n",
       "    .dataframe tbody tr th:only-of-type {\n",
       "        vertical-align: middle;\n",
       "    }\n",
       "\n",
       "    .dataframe tbody tr th {\n",
       "        vertical-align: top;\n",
       "    }\n",
       "\n",
       "    .dataframe thead th {\n",
       "        text-align: right;\n",
       "    }\n",
       "</style>\n",
       "<table border=\"1\" class=\"dataframe\">\n",
       "  <thead>\n",
       "    <tr style=\"text-align: right;\">\n",
       "      <th></th>\n",
       "      <th>0</th>\n",
       "      <th>1</th>\n",
       "      <th>2</th>\n",
       "    </tr>\n",
       "  </thead>\n",
       "  <tbody>\n",
       "    <tr>\n",
       "      <th>0</th>\n",
       "      <td>0.333333</td>\n",
       "      <td>0.8</td>\n",
       "      <td>0.818001</td>\n",
       "    </tr>\n",
       "    <tr>\n",
       "      <th>1</th>\n",
       "      <td>0.333333</td>\n",
       "      <td>0.5</td>\n",
       "      <td>0.486076</td>\n",
       "    </tr>\n",
       "    <tr>\n",
       "      <th>2</th>\n",
       "      <td>0.333333</td>\n",
       "      <td>0.6</td>\n",
       "      <td>0.599030</td>\n",
       "    </tr>\n",
       "  </tbody>\n",
       "</table>\n",
       "</div>"
      ],
      "text/plain": [
       "          0    1         2\n",
       "0  0.333333  0.8  0.818001\n",
       "1  0.333333  0.5  0.486076\n",
       "2  0.333333  0.6  0.599030"
      ]
     },
     "execution_count": 31,
     "metadata": {},
     "output_type": "execute_result"
    }
   ],
   "source": [
    "features_scaled.head(3)"
   ]
  },
  {
   "cell_type": "code",
   "execution_count": 32,
   "id": "41a615e7",
   "metadata": {},
   "outputs": [],
   "source": [
    "features_scaled.columns = ['projects_scaled','tenure_scaled','avg_hrs_month_scaled'] # to change the names of the columns instead of 0 1 and 2"
   ]
  },
  {
   "cell_type": "code",
   "execution_count": 33,
   "id": "199160eb",
   "metadata": {},
   "outputs": [
    {
     "data": {
      "text/plain": [
       "(7632, 3)"
      ]
     },
     "execution_count": 33,
     "metadata": {},
     "output_type": "execute_result"
    }
   ],
   "source": [
    "features_scaled.shape"
   ]
  },
  {
   "cell_type": "code",
   "execution_count": 34,
   "id": "efce848f",
   "metadata": {
    "scrolled": false
   },
   "outputs": [
    {
     "data": {
      "text/html": [
       "<div>\n",
       "<style scoped>\n",
       "    .dataframe tbody tr th:only-of-type {\n",
       "        vertical-align: middle;\n",
       "    }\n",
       "\n",
       "    .dataframe tbody tr th {\n",
       "        vertical-align: top;\n",
       "    }\n",
       "\n",
       "    .dataframe thead th {\n",
       "        text-align: right;\n",
       "    }\n",
       "</style>\n",
       "<table border=\"1\" class=\"dataframe\">\n",
       "  <thead>\n",
       "    <tr style=\"text-align: right;\">\n",
       "      <th></th>\n",
       "      <th>projects_scaled</th>\n",
       "      <th>tenure_scaled</th>\n",
       "      <th>avg_hrs_month_scaled</th>\n",
       "    </tr>\n",
       "  </thead>\n",
       "  <tbody>\n",
       "    <tr>\n",
       "      <th>0</th>\n",
       "      <td>0.333333</td>\n",
       "      <td>0.8</td>\n",
       "      <td>0.818001</td>\n",
       "    </tr>\n",
       "    <tr>\n",
       "      <th>1</th>\n",
       "      <td>0.333333</td>\n",
       "      <td>0.5</td>\n",
       "      <td>0.486076</td>\n",
       "    </tr>\n",
       "    <tr>\n",
       "      <th>2</th>\n",
       "      <td>0.333333</td>\n",
       "      <td>0.6</td>\n",
       "      <td>0.599030</td>\n",
       "    </tr>\n",
       "  </tbody>\n",
       "</table>\n",
       "</div>"
      ],
      "text/plain": [
       "   projects_scaled  tenure_scaled  avg_hrs_month_scaled\n",
       "0         0.333333            0.8              0.818001\n",
       "1         0.333333            0.5              0.486076\n",
       "2         0.333333            0.6              0.599030"
      ]
     },
     "execution_count": 34,
     "metadata": {},
     "output_type": "execute_result"
    }
   ],
   "source": [
    "features_scaled.head(3)"
   ]
  },
  {
   "cell_type": "code",
   "execution_count": 35,
   "id": "177cc858",
   "metadata": {},
   "outputs": [
    {
     "data": {
      "text/html": [
       "<div>\n",
       "<style scoped>\n",
       "    .dataframe tbody tr th:only-of-type {\n",
       "        vertical-align: middle;\n",
       "    }\n",
       "\n",
       "    .dataframe tbody tr th {\n",
       "        vertical-align: top;\n",
       "    }\n",
       "\n",
       "    .dataframe thead th {\n",
       "        text-align: right;\n",
       "    }\n",
       "</style>\n",
       "<table border=\"1\" class=\"dataframe\">\n",
       "  <thead>\n",
       "    <tr style=\"text-align: right;\">\n",
       "      <th></th>\n",
       "      <th>projects_scaled</th>\n",
       "      <th>tenure_scaled</th>\n",
       "      <th>avg_hrs_month_scaled</th>\n",
       "    </tr>\n",
       "  </thead>\n",
       "  <tbody>\n",
       "    <tr>\n",
       "      <th>7629</th>\n",
       "      <td>0.000000</td>\n",
       "      <td>0.5</td>\n",
       "      <td>0.525144</td>\n",
       "    </tr>\n",
       "    <tr>\n",
       "      <th>7630</th>\n",
       "      <td>0.666667</td>\n",
       "      <td>0.3</td>\n",
       "      <td>0.315198</td>\n",
       "    </tr>\n",
       "    <tr>\n",
       "      <th>7631</th>\n",
       "      <td>0.333333</td>\n",
       "      <td>0.5</td>\n",
       "      <td>0.453781</td>\n",
       "    </tr>\n",
       "  </tbody>\n",
       "</table>\n",
       "</div>"
      ],
      "text/plain": [
       "      projects_scaled  tenure_scaled  avg_hrs_month_scaled\n",
       "7629         0.000000            0.5              0.525144\n",
       "7630         0.666667            0.3              0.315198\n",
       "7631         0.333333            0.5              0.453781"
      ]
     },
     "execution_count": 35,
     "metadata": {},
     "output_type": "execute_result"
    }
   ],
   "source": [
    "features_scaled.tail(3)"
   ]
  },
  {
   "cell_type": "code",
   "execution_count": 36,
   "id": "0590f499",
   "metadata": {},
   "outputs": [
    {
     "data": {
      "text/plain": [
       "(7632, 3)"
      ]
     },
     "execution_count": 36,
     "metadata": {},
     "output_type": "execute_result"
    }
   ],
   "source": [
    "features_scaled.shape"
   ]
  },
  {
   "cell_type": "code",
   "execution_count": 37,
   "id": "560905bd",
   "metadata": {},
   "outputs": [
    {
     "data": {
      "text/plain": [
       "projects_scaled         0\n",
       "tenure_scaled           0\n",
       "avg_hrs_month_scaled    0\n",
       "dtype: int64"
      ]
     },
     "execution_count": 37,
     "metadata": {},
     "output_type": "execute_result"
    }
   ],
   "source": [
    "features_scaled.isnull().sum()"
   ]
  },
  {
   "cell_type": "code",
   "execution_count": 38,
   "id": "9f666813",
   "metadata": {
    "scrolled": true
   },
   "outputs": [
    {
     "data": {
      "text/plain": [
       "(7632, 18)"
      ]
     },
     "execution_count": 38,
     "metadata": {},
     "output_type": "execute_result"
    }
   ],
   "source": [
    "X_train.shape"
   ]
  },
  {
   "cell_type": "code",
   "execution_count": 39,
   "id": "107e39d6",
   "metadata": {},
   "outputs": [],
   "source": [
    "X_train.reset_index(drop=True, inplace=True)"
   ]
  },
  {
   "cell_type": "markdown",
   "id": "6d055a2b",
   "metadata": {},
   "source": [
    "### Resetting the index\n",
    "I reset the index for X_train to start from 0 because I was getting some bullshit NaN values when I tried concatenating the two dataframes togther using the index from X_train. So to avoid he whole mess I just reset the index for X_train and I will have to do it for y_train as well.\n",
    "https://pandas.pydata.org/docs/reference/api/pandas.DataFrame.reset_index.html"
   ]
  },
  {
   "cell_type": "code",
   "execution_count": 40,
   "id": "2d671ad4",
   "metadata": {},
   "outputs": [],
   "source": [
    "X_train = pd.concat([X_train, features_scaled.reindex(X_train.index)],axis = 1) # Concatenating the scaled features and original df\n",
    "\n",
    "# If I did not include the .reindex(X_train.index) I was getting a resulting shape of X_train to be(9195, 21)\n",
    "# this was because the index on X-train and features_scaled are in different order. we can see from before the first \n",
    "# instance of X_train has an idex of 6870 but features_scaled first index is 0. Thus when you concatenate just so\n",
    "# without changing the index of features_scaled to that of X_train whatever rows indexes are not present in features_scaled would \n",
    "# then be included at the bottom and thus the longer resulting df with 9195 rows. Alternatively I could have just re-set the index\n",
    "# of X_train to start from 0. If I am joining the X_train to the y-train to see the correlation matrix I would then have\n",
    "# to reset the index of y_train too.\n",
    "\n",
    "# I got df4.reindex(df1.index) from https://pandas.pydata.org/pandas-docs/stable/user_guide/merging.html "
   ]
  },
  {
   "cell_type": "code",
   "execution_count": 41,
   "id": "33137693",
   "metadata": {},
   "outputs": [
    {
     "data": {
      "text/html": [
       "<div>\n",
       "<style scoped>\n",
       "    .dataframe tbody tr th:only-of-type {\n",
       "        vertical-align: middle;\n",
       "    }\n",
       "\n",
       "    .dataframe tbody tr th {\n",
       "        vertical-align: top;\n",
       "    }\n",
       "\n",
       "    .dataframe thead th {\n",
       "        text-align: right;\n",
       "    }\n",
       "</style>\n",
       "<table border=\"1\" class=\"dataframe\">\n",
       "  <thead>\n",
       "    <tr style=\"text-align: right;\">\n",
       "      <th></th>\n",
       "      <th>promoted</th>\n",
       "      <th>review</th>\n",
       "      <th>projects</th>\n",
       "      <th>tenure</th>\n",
       "      <th>satisfaction</th>\n",
       "      <th>bonus</th>\n",
       "      <th>avg_hrs_month</th>\n",
       "      <th>department_admin</th>\n",
       "      <th>department_engineering</th>\n",
       "      <th>department_finance</th>\n",
       "      <th>department_logistics</th>\n",
       "      <th>department_marketing</th>\n",
       "      <th>department_operations</th>\n",
       "      <th>department_retail</th>\n",
       "      <th>department_sales</th>\n",
       "      <th>department_support</th>\n",
       "      <th>salary_low</th>\n",
       "      <th>salary_medium</th>\n",
       "      <th>projects_scaled</th>\n",
       "      <th>tenure_scaled</th>\n",
       "      <th>avg_hrs_month_scaled</th>\n",
       "    </tr>\n",
       "  </thead>\n",
       "  <tbody>\n",
       "    <tr>\n",
       "      <th>0</th>\n",
       "      <td>0</td>\n",
       "      <td>0.698283</td>\n",
       "      <td>3</td>\n",
       "      <td>10.0</td>\n",
       "      <td>0.561656</td>\n",
       "      <td>0</td>\n",
       "      <td>195.494929</td>\n",
       "      <td>0</td>\n",
       "      <td>0</td>\n",
       "      <td>0</td>\n",
       "      <td>0</td>\n",
       "      <td>0</td>\n",
       "      <td>0</td>\n",
       "      <td>1</td>\n",
       "      <td>0</td>\n",
       "      <td>0</td>\n",
       "      <td>0</td>\n",
       "      <td>1</td>\n",
       "      <td>0.333333</td>\n",
       "      <td>0.8</td>\n",
       "      <td>0.818001</td>\n",
       "    </tr>\n",
       "    <tr>\n",
       "      <th>1</th>\n",
       "      <td>0</td>\n",
       "      <td>0.487040</td>\n",
       "      <td>3</td>\n",
       "      <td>7.0</td>\n",
       "      <td>0.730389</td>\n",
       "      <td>0</td>\n",
       "      <td>185.707273</td>\n",
       "      <td>0</td>\n",
       "      <td>0</td>\n",
       "      <td>0</td>\n",
       "      <td>0</td>\n",
       "      <td>0</td>\n",
       "      <td>1</td>\n",
       "      <td>0</td>\n",
       "      <td>0</td>\n",
       "      <td>0</td>\n",
       "      <td>0</td>\n",
       "      <td>1</td>\n",
       "      <td>0.333333</td>\n",
       "      <td>0.5</td>\n",
       "      <td>0.486076</td>\n",
       "    </tr>\n",
       "    <tr>\n",
       "      <th>2</th>\n",
       "      <td>0</td>\n",
       "      <td>0.572762</td>\n",
       "      <td>3</td>\n",
       "      <td>8.0</td>\n",
       "      <td>0.351720</td>\n",
       "      <td>0</td>\n",
       "      <td>189.038025</td>\n",
       "      <td>0</td>\n",
       "      <td>0</td>\n",
       "      <td>0</td>\n",
       "      <td>0</td>\n",
       "      <td>1</td>\n",
       "      <td>0</td>\n",
       "      <td>0</td>\n",
       "      <td>0</td>\n",
       "      <td>0</td>\n",
       "      <td>0</td>\n",
       "      <td>1</td>\n",
       "      <td>0.333333</td>\n",
       "      <td>0.6</td>\n",
       "      <td>0.599030</td>\n",
       "    </tr>\n",
       "    <tr>\n",
       "      <th>3</th>\n",
       "      <td>0</td>\n",
       "      <td>0.699904</td>\n",
       "      <td>3</td>\n",
       "      <td>8.0</td>\n",
       "      <td>0.458049</td>\n",
       "      <td>0</td>\n",
       "      <td>188.925475</td>\n",
       "      <td>0</td>\n",
       "      <td>0</td>\n",
       "      <td>0</td>\n",
       "      <td>0</td>\n",
       "      <td>0</td>\n",
       "      <td>0</td>\n",
       "      <td>0</td>\n",
       "      <td>0</td>\n",
       "      <td>1</td>\n",
       "      <td>0</td>\n",
       "      <td>1</td>\n",
       "      <td>0.333333</td>\n",
       "      <td>0.6</td>\n",
       "      <td>0.595213</td>\n",
       "    </tr>\n",
       "    <tr>\n",
       "      <th>4</th>\n",
       "      <td>0</td>\n",
       "      <td>0.659192</td>\n",
       "      <td>5</td>\n",
       "      <td>9.0</td>\n",
       "      <td>0.479336</td>\n",
       "      <td>0</td>\n",
       "      <td>191.496478</td>\n",
       "      <td>0</td>\n",
       "      <td>0</td>\n",
       "      <td>0</td>\n",
       "      <td>0</td>\n",
       "      <td>0</td>\n",
       "      <td>1</td>\n",
       "      <td>0</td>\n",
       "      <td>0</td>\n",
       "      <td>0</td>\n",
       "      <td>1</td>\n",
       "      <td>0</td>\n",
       "      <td>1.000000</td>\n",
       "      <td>0.7</td>\n",
       "      <td>0.682403</td>\n",
       "    </tr>\n",
       "  </tbody>\n",
       "</table>\n",
       "</div>"
      ],
      "text/plain": [
       "   promoted    review  projects  tenure  satisfaction  bonus  avg_hrs_month  \\\n",
       "0         0  0.698283         3    10.0      0.561656      0     195.494929   \n",
       "1         0  0.487040         3     7.0      0.730389      0     185.707273   \n",
       "2         0  0.572762         3     8.0      0.351720      0     189.038025   \n",
       "3         0  0.699904         3     8.0      0.458049      0     188.925475   \n",
       "4         0  0.659192         5     9.0      0.479336      0     191.496478   \n",
       "\n",
       "   department_admin  department_engineering  department_finance  \\\n",
       "0                 0                       0                   0   \n",
       "1                 0                       0                   0   \n",
       "2                 0                       0                   0   \n",
       "3                 0                       0                   0   \n",
       "4                 0                       0                   0   \n",
       "\n",
       "   department_logistics  department_marketing  department_operations  \\\n",
       "0                     0                     0                      0   \n",
       "1                     0                     0                      1   \n",
       "2                     0                     1                      0   \n",
       "3                     0                     0                      0   \n",
       "4                     0                     0                      1   \n",
       "\n",
       "   department_retail  department_sales  department_support  salary_low  \\\n",
       "0                  1                 0                   0           0   \n",
       "1                  0                 0                   0           0   \n",
       "2                  0                 0                   0           0   \n",
       "3                  0                 0                   1           0   \n",
       "4                  0                 0                   0           1   \n",
       "\n",
       "   salary_medium  projects_scaled  tenure_scaled  avg_hrs_month_scaled  \n",
       "0              1         0.333333            0.8              0.818001  \n",
       "1              1         0.333333            0.5              0.486076  \n",
       "2              1         0.333333            0.6              0.599030  \n",
       "3              1         0.333333            0.6              0.595213  \n",
       "4              0         1.000000            0.7              0.682403  "
      ]
     },
     "execution_count": 41,
     "metadata": {},
     "output_type": "execute_result"
    }
   ],
   "source": [
    "X_train.head()"
   ]
  },
  {
   "cell_type": "code",
   "execution_count": 42,
   "id": "c76fde89",
   "metadata": {},
   "outputs": [
    {
     "data": {
      "text/plain": [
       "(7632, 21)"
      ]
     },
     "execution_count": 42,
     "metadata": {},
     "output_type": "execute_result"
    }
   ],
   "source": [
    "X_train.shape"
   ]
  },
  {
   "cell_type": "code",
   "execution_count": 43,
   "id": "3dffd387",
   "metadata": {},
   "outputs": [],
   "source": [
    "# Dropping original not scaled columns\n",
    "X_train.drop(['projects', 'tenure', 'avg_hrs_month'], axis = 1, inplace = True) "
   ]
  },
  {
   "cell_type": "code",
   "execution_count": 44,
   "id": "7f0df9ef",
   "metadata": {
    "scrolled": false
   },
   "outputs": [
    {
     "data": {
      "text/html": [
       "<div>\n",
       "<style scoped>\n",
       "    .dataframe tbody tr th:only-of-type {\n",
       "        vertical-align: middle;\n",
       "    }\n",
       "\n",
       "    .dataframe tbody tr th {\n",
       "        vertical-align: top;\n",
       "    }\n",
       "\n",
       "    .dataframe thead th {\n",
       "        text-align: right;\n",
       "    }\n",
       "</style>\n",
       "<table border=\"1\" class=\"dataframe\">\n",
       "  <thead>\n",
       "    <tr style=\"text-align: right;\">\n",
       "      <th></th>\n",
       "      <th>promoted</th>\n",
       "      <th>review</th>\n",
       "      <th>satisfaction</th>\n",
       "      <th>bonus</th>\n",
       "      <th>department_admin</th>\n",
       "      <th>department_engineering</th>\n",
       "      <th>department_finance</th>\n",
       "      <th>department_logistics</th>\n",
       "      <th>department_marketing</th>\n",
       "      <th>department_operations</th>\n",
       "      <th>department_retail</th>\n",
       "      <th>department_sales</th>\n",
       "      <th>department_support</th>\n",
       "      <th>salary_low</th>\n",
       "      <th>salary_medium</th>\n",
       "      <th>projects_scaled</th>\n",
       "      <th>tenure_scaled</th>\n",
       "      <th>avg_hrs_month_scaled</th>\n",
       "    </tr>\n",
       "  </thead>\n",
       "  <tbody>\n",
       "    <tr>\n",
       "      <th>0</th>\n",
       "      <td>0</td>\n",
       "      <td>0.698283</td>\n",
       "      <td>0.561656</td>\n",
       "      <td>0</td>\n",
       "      <td>0</td>\n",
       "      <td>0</td>\n",
       "      <td>0</td>\n",
       "      <td>0</td>\n",
       "      <td>0</td>\n",
       "      <td>0</td>\n",
       "      <td>1</td>\n",
       "      <td>0</td>\n",
       "      <td>0</td>\n",
       "      <td>0</td>\n",
       "      <td>1</td>\n",
       "      <td>0.333333</td>\n",
       "      <td>0.8</td>\n",
       "      <td>0.818001</td>\n",
       "    </tr>\n",
       "    <tr>\n",
       "      <th>1</th>\n",
       "      <td>0</td>\n",
       "      <td>0.487040</td>\n",
       "      <td>0.730389</td>\n",
       "      <td>0</td>\n",
       "      <td>0</td>\n",
       "      <td>0</td>\n",
       "      <td>0</td>\n",
       "      <td>0</td>\n",
       "      <td>0</td>\n",
       "      <td>1</td>\n",
       "      <td>0</td>\n",
       "      <td>0</td>\n",
       "      <td>0</td>\n",
       "      <td>0</td>\n",
       "      <td>1</td>\n",
       "      <td>0.333333</td>\n",
       "      <td>0.5</td>\n",
       "      <td>0.486076</td>\n",
       "    </tr>\n",
       "    <tr>\n",
       "      <th>2</th>\n",
       "      <td>0</td>\n",
       "      <td>0.572762</td>\n",
       "      <td>0.351720</td>\n",
       "      <td>0</td>\n",
       "      <td>0</td>\n",
       "      <td>0</td>\n",
       "      <td>0</td>\n",
       "      <td>0</td>\n",
       "      <td>1</td>\n",
       "      <td>0</td>\n",
       "      <td>0</td>\n",
       "      <td>0</td>\n",
       "      <td>0</td>\n",
       "      <td>0</td>\n",
       "      <td>1</td>\n",
       "      <td>0.333333</td>\n",
       "      <td>0.6</td>\n",
       "      <td>0.599030</td>\n",
       "    </tr>\n",
       "    <tr>\n",
       "      <th>3</th>\n",
       "      <td>0</td>\n",
       "      <td>0.699904</td>\n",
       "      <td>0.458049</td>\n",
       "      <td>0</td>\n",
       "      <td>0</td>\n",
       "      <td>0</td>\n",
       "      <td>0</td>\n",
       "      <td>0</td>\n",
       "      <td>0</td>\n",
       "      <td>0</td>\n",
       "      <td>0</td>\n",
       "      <td>0</td>\n",
       "      <td>1</td>\n",
       "      <td>0</td>\n",
       "      <td>1</td>\n",
       "      <td>0.333333</td>\n",
       "      <td>0.6</td>\n",
       "      <td>0.595213</td>\n",
       "    </tr>\n",
       "    <tr>\n",
       "      <th>4</th>\n",
       "      <td>0</td>\n",
       "      <td>0.659192</td>\n",
       "      <td>0.479336</td>\n",
       "      <td>0</td>\n",
       "      <td>0</td>\n",
       "      <td>0</td>\n",
       "      <td>0</td>\n",
       "      <td>0</td>\n",
       "      <td>0</td>\n",
       "      <td>1</td>\n",
       "      <td>0</td>\n",
       "      <td>0</td>\n",
       "      <td>0</td>\n",
       "      <td>1</td>\n",
       "      <td>0</td>\n",
       "      <td>1.000000</td>\n",
       "      <td>0.7</td>\n",
       "      <td>0.682403</td>\n",
       "    </tr>\n",
       "  </tbody>\n",
       "</table>\n",
       "</div>"
      ],
      "text/plain": [
       "   promoted    review  satisfaction  bonus  department_admin  \\\n",
       "0         0  0.698283      0.561656      0                 0   \n",
       "1         0  0.487040      0.730389      0                 0   \n",
       "2         0  0.572762      0.351720      0                 0   \n",
       "3         0  0.699904      0.458049      0                 0   \n",
       "4         0  0.659192      0.479336      0                 0   \n",
       "\n",
       "   department_engineering  department_finance  department_logistics  \\\n",
       "0                       0                   0                     0   \n",
       "1                       0                   0                     0   \n",
       "2                       0                   0                     0   \n",
       "3                       0                   0                     0   \n",
       "4                       0                   0                     0   \n",
       "\n",
       "   department_marketing  department_operations  department_retail  \\\n",
       "0                     0                      0                  1   \n",
       "1                     0                      1                  0   \n",
       "2                     1                      0                  0   \n",
       "3                     0                      0                  0   \n",
       "4                     0                      1                  0   \n",
       "\n",
       "   department_sales  department_support  salary_low  salary_medium  \\\n",
       "0                 0                   0           0              1   \n",
       "1                 0                   0           0              1   \n",
       "2                 0                   0           0              1   \n",
       "3                 0                   1           0              1   \n",
       "4                 0                   0           1              0   \n",
       "\n",
       "   projects_scaled  tenure_scaled  avg_hrs_month_scaled  \n",
       "0         0.333333            0.8              0.818001  \n",
       "1         0.333333            0.5              0.486076  \n",
       "2         0.333333            0.6              0.599030  \n",
       "3         0.333333            0.6              0.595213  \n",
       "4         1.000000            0.7              0.682403  "
      ]
     },
     "execution_count": 44,
     "metadata": {},
     "output_type": "execute_result"
    }
   ],
   "source": [
    "X_train.head()"
   ]
  },
  {
   "cell_type": "code",
   "execution_count": 45,
   "id": "55b0649c",
   "metadata": {},
   "outputs": [
    {
     "data": {
      "text/plain": [
       "(7632, 18)"
      ]
     },
     "execution_count": 45,
     "metadata": {},
     "output_type": "execute_result"
    }
   ],
   "source": [
    "X_train.shape"
   ]
  },
  {
   "cell_type": "code",
   "execution_count": 46,
   "id": "b50b78f7",
   "metadata": {
    "scrolled": true
   },
   "outputs": [
    {
     "data": {
      "text/plain": [
       "promoted                    int64\n",
       "review                    float64\n",
       "satisfaction              float64\n",
       "bonus                       int64\n",
       "department_admin            uint8\n",
       "department_engineering      uint8\n",
       "department_finance          uint8\n",
       "department_logistics        uint8\n",
       "department_marketing        uint8\n",
       "department_operations       uint8\n",
       "department_retail           uint8\n",
       "department_sales            uint8\n",
       "department_support          uint8\n",
       "salary_low                  uint8\n",
       "salary_medium               uint8\n",
       "projects_scaled           float64\n",
       "tenure_scaled             float64\n",
       "avg_hrs_month_scaled      float64\n",
       "dtype: object"
      ]
     },
     "execution_count": 46,
     "metadata": {},
     "output_type": "execute_result"
    }
   ],
   "source": [
    "X_train.dtypes\n",
    "\n",
    "# ok this shows that all of the features are numeric\n",
    "# apparently when both dfs were concatenated it converted all of the features to floats"
   ]
  },
  {
   "cell_type": "markdown",
   "id": "88a49a41",
   "metadata": {},
   "source": [
    "### Experimenting with pandas concat\n",
    "\n",
    "https://pandas.pydata.org/docs/reference/api/pandas.concat.html\n",
    "\n",
    "https://pandas.pydata.org/pandas-docs/stable/user_guide/merging.html"
   ]
  },
  {
   "cell_type": "code",
   "execution_count": 47,
   "id": "0c8af2cf",
   "metadata": {},
   "outputs": [],
   "source": [
    "df1 = pd.DataFrame([['a', 1], ['b', 2]],\n",
    "                   columns=['letter', 'number'])\n",
    "\n",
    "df2 = pd.DataFrame([['c', 3], ['d', 4]],\n",
    "                   columns=['letter', 'number'])"
   ]
  },
  {
   "cell_type": "code",
   "execution_count": 48,
   "id": "68944991",
   "metadata": {
    "scrolled": true
   },
   "outputs": [
    {
     "data": {
      "text/html": [
       "<div>\n",
       "<style scoped>\n",
       "    .dataframe tbody tr th:only-of-type {\n",
       "        vertical-align: middle;\n",
       "    }\n",
       "\n",
       "    .dataframe tbody tr th {\n",
       "        vertical-align: top;\n",
       "    }\n",
       "\n",
       "    .dataframe thead th {\n",
       "        text-align: right;\n",
       "    }\n",
       "</style>\n",
       "<table border=\"1\" class=\"dataframe\">\n",
       "  <thead>\n",
       "    <tr style=\"text-align: right;\">\n",
       "      <th></th>\n",
       "      <th>letter</th>\n",
       "      <th>number</th>\n",
       "    </tr>\n",
       "  </thead>\n",
       "  <tbody>\n",
       "    <tr>\n",
       "      <th>0</th>\n",
       "      <td>a</td>\n",
       "      <td>1</td>\n",
       "    </tr>\n",
       "    <tr>\n",
       "      <th>1</th>\n",
       "      <td>b</td>\n",
       "      <td>2</td>\n",
       "    </tr>\n",
       "  </tbody>\n",
       "</table>\n",
       "</div>"
      ],
      "text/plain": [
       "  letter  number\n",
       "0      a       1\n",
       "1      b       2"
      ]
     },
     "execution_count": 48,
     "metadata": {},
     "output_type": "execute_result"
    }
   ],
   "source": [
    "df1"
   ]
  },
  {
   "cell_type": "code",
   "execution_count": 49,
   "id": "31d96fd3",
   "metadata": {
    "scrolled": true
   },
   "outputs": [
    {
     "data": {
      "text/html": [
       "<div>\n",
       "<style scoped>\n",
       "    .dataframe tbody tr th:only-of-type {\n",
       "        vertical-align: middle;\n",
       "    }\n",
       "\n",
       "    .dataframe tbody tr th {\n",
       "        vertical-align: top;\n",
       "    }\n",
       "\n",
       "    .dataframe thead th {\n",
       "        text-align: right;\n",
       "    }\n",
       "</style>\n",
       "<table border=\"1\" class=\"dataframe\">\n",
       "  <thead>\n",
       "    <tr style=\"text-align: right;\">\n",
       "      <th></th>\n",
       "      <th>letter</th>\n",
       "      <th>number</th>\n",
       "    </tr>\n",
       "  </thead>\n",
       "  <tbody>\n",
       "    <tr>\n",
       "      <th>0</th>\n",
       "      <td>c</td>\n",
       "      <td>3</td>\n",
       "    </tr>\n",
       "    <tr>\n",
       "      <th>1</th>\n",
       "      <td>d</td>\n",
       "      <td>4</td>\n",
       "    </tr>\n",
       "  </tbody>\n",
       "</table>\n",
       "</div>"
      ],
      "text/plain": [
       "  letter  number\n",
       "0      c       3\n",
       "1      d       4"
      ]
     },
     "execution_count": 49,
     "metadata": {},
     "output_type": "execute_result"
    }
   ],
   "source": [
    "df2"
   ]
  },
  {
   "cell_type": "code",
   "execution_count": 50,
   "id": "a0849f0e",
   "metadata": {
    "scrolled": false
   },
   "outputs": [
    {
     "data": {
      "text/html": [
       "<div>\n",
       "<style scoped>\n",
       "    .dataframe tbody tr th:only-of-type {\n",
       "        vertical-align: middle;\n",
       "    }\n",
       "\n",
       "    .dataframe tbody tr th {\n",
       "        vertical-align: top;\n",
       "    }\n",
       "\n",
       "    .dataframe thead th {\n",
       "        text-align: right;\n",
       "    }\n",
       "</style>\n",
       "<table border=\"1\" class=\"dataframe\">\n",
       "  <thead>\n",
       "    <tr style=\"text-align: right;\">\n",
       "      <th></th>\n",
       "      <th>letter</th>\n",
       "      <th>number</th>\n",
       "    </tr>\n",
       "  </thead>\n",
       "  <tbody>\n",
       "    <tr>\n",
       "      <th>0</th>\n",
       "      <td>a</td>\n",
       "      <td>1</td>\n",
       "    </tr>\n",
       "    <tr>\n",
       "      <th>1</th>\n",
       "      <td>b</td>\n",
       "      <td>2</td>\n",
       "    </tr>\n",
       "    <tr>\n",
       "      <th>2</th>\n",
       "      <td>c</td>\n",
       "      <td>3</td>\n",
       "    </tr>\n",
       "    <tr>\n",
       "      <th>3</th>\n",
       "      <td>d</td>\n",
       "      <td>4</td>\n",
       "    </tr>\n",
       "  </tbody>\n",
       "</table>\n",
       "</div>"
      ],
      "text/plain": [
       "  letter  number\n",
       "0      a       1\n",
       "1      b       2\n",
       "2      c       3\n",
       "3      d       4"
      ]
     },
     "execution_count": 50,
     "metadata": {},
     "output_type": "execute_result"
    }
   ],
   "source": [
    "pd.concat([df1, df2],ignore_index=True)"
   ]
  },
  {
   "cell_type": "code",
   "execution_count": 51,
   "id": "8616184b",
   "metadata": {
    "scrolled": false
   },
   "outputs": [
    {
     "data": {
      "text/html": [
       "<div>\n",
       "<style scoped>\n",
       "    .dataframe tbody tr th:only-of-type {\n",
       "        vertical-align: middle;\n",
       "    }\n",
       "\n",
       "    .dataframe tbody tr th {\n",
       "        vertical-align: top;\n",
       "    }\n",
       "\n",
       "    .dataframe thead th {\n",
       "        text-align: right;\n",
       "    }\n",
       "</style>\n",
       "<table border=\"1\" class=\"dataframe\">\n",
       "  <thead>\n",
       "    <tr style=\"text-align: right;\">\n",
       "      <th></th>\n",
       "      <th>letter</th>\n",
       "      <th>number</th>\n",
       "      <th>letter</th>\n",
       "      <th>number</th>\n",
       "    </tr>\n",
       "  </thead>\n",
       "  <tbody>\n",
       "    <tr>\n",
       "      <th>0</th>\n",
       "      <td>a</td>\n",
       "      <td>1</td>\n",
       "      <td>c</td>\n",
       "      <td>3</td>\n",
       "    </tr>\n",
       "    <tr>\n",
       "      <th>1</th>\n",
       "      <td>b</td>\n",
       "      <td>2</td>\n",
       "      <td>d</td>\n",
       "      <td>4</td>\n",
       "    </tr>\n",
       "  </tbody>\n",
       "</table>\n",
       "</div>"
      ],
      "text/plain": [
       "  letter  number letter  number\n",
       "0      a       1      c       3\n",
       "1      b       2      d       4"
      ]
     },
     "execution_count": 51,
     "metadata": {},
     "output_type": "execute_result"
    }
   ],
   "source": [
    "pd.concat([df1, df2],axis = 1)"
   ]
  },
  {
   "cell_type": "code",
   "execution_count": 52,
   "id": "90b6dbb4",
   "metadata": {},
   "outputs": [
    {
     "data": {
      "text/html": [
       "<div>\n",
       "<style scoped>\n",
       "    .dataframe tbody tr th:only-of-type {\n",
       "        vertical-align: middle;\n",
       "    }\n",
       "\n",
       "    .dataframe tbody tr th {\n",
       "        vertical-align: top;\n",
       "    }\n",
       "\n",
       "    .dataframe thead th {\n",
       "        text-align: right;\n",
       "    }\n",
       "</style>\n",
       "<table border=\"1\" class=\"dataframe\">\n",
       "  <thead>\n",
       "    <tr style=\"text-align: right;\">\n",
       "      <th></th>\n",
       "      <th>letter</th>\n",
       "      <th>number</th>\n",
       "      <th>letter</th>\n",
       "      <th>number</th>\n",
       "    </tr>\n",
       "  </thead>\n",
       "  <tbody>\n",
       "    <tr>\n",
       "      <th>0</th>\n",
       "      <td>a</td>\n",
       "      <td>1</td>\n",
       "      <td>c</td>\n",
       "      <td>3</td>\n",
       "    </tr>\n",
       "    <tr>\n",
       "      <th>1</th>\n",
       "      <td>b</td>\n",
       "      <td>2</td>\n",
       "      <td>d</td>\n",
       "      <td>4</td>\n",
       "    </tr>\n",
       "  </tbody>\n",
       "</table>\n",
       "</div>"
      ],
      "text/plain": [
       "  letter  number letter  number\n",
       "0      a       1      c       3\n",
       "1      b       2      d       4"
      ]
     },
     "execution_count": 52,
     "metadata": {},
     "output_type": "execute_result"
    }
   ],
   "source": [
    "pd.concat([df1, df2.reindex(df1.index)],axis = 1)"
   ]
  },
  {
   "cell_type": "markdown",
   "id": "5e046675",
   "metadata": {},
   "source": [
    "##  Correlation Matrices\n",
    "\n",
    "https://datatofish.com/correlation-matrix-pandas/\n",
    "\n",
    "https://seaborn.pydata.org/examples/many_pairwise_correlations.html\n",
    "\n",
    "https://towardsdatascience.com/better-heatmaps-and-correlation-matrix-plots-in-python-41445d0f2bec\n",
    "\n",
    "https://medium.com/@outside2SDs/an-overview-of-correlation-measures-between-categorical-and-continuous-variables-4c7f85610365"
   ]
  },
  {
   "cell_type": "code",
   "execution_count": 53,
   "id": "9ad5d54c",
   "metadata": {},
   "outputs": [],
   "source": [
    "# X_train_continuous =  X_train[['review', 'projects', 'tenure', 'satisfaction' ]] \n",
    "# income_subset = X_train[['ApplicantIncome', 'CoapplicantIncome']] "
   ]
  },
  {
   "cell_type": "code",
   "execution_count": 54,
   "id": "2a6d4e7c",
   "metadata": {
    "scrolled": true
   },
   "outputs": [
    {
     "data": {
      "text/plain": [
       "promoted                    int64\n",
       "review                    float64\n",
       "satisfaction              float64\n",
       "bonus                       int64\n",
       "department_admin            uint8\n",
       "department_engineering      uint8\n",
       "department_finance          uint8\n",
       "department_logistics        uint8\n",
       "department_marketing        uint8\n",
       "department_operations       uint8\n",
       "department_retail           uint8\n",
       "department_sales            uint8\n",
       "department_support          uint8\n",
       "salary_low                  uint8\n",
       "salary_medium               uint8\n",
       "projects_scaled           float64\n",
       "tenure_scaled             float64\n",
       "avg_hrs_month_scaled      float64\n",
       "dtype: object"
      ]
     },
     "execution_count": 54,
     "metadata": {},
     "output_type": "execute_result"
    }
   ],
   "source": [
    "X_train.dtypes"
   ]
  },
  {
   "cell_type": "code",
   "execution_count": 55,
   "id": "c5d65ba0",
   "metadata": {
    "scrolled": true
   },
   "outputs": [
    {
     "data": {
      "text/html": [
       "<div>\n",
       "<style scoped>\n",
       "    .dataframe tbody tr th:only-of-type {\n",
       "        vertical-align: middle;\n",
       "    }\n",
       "\n",
       "    .dataframe tbody tr th {\n",
       "        vertical-align: top;\n",
       "    }\n",
       "\n",
       "    .dataframe thead th {\n",
       "        text-align: right;\n",
       "    }\n",
       "</style>\n",
       "<table border=\"1\" class=\"dataframe\">\n",
       "  <thead>\n",
       "    <tr style=\"text-align: right;\">\n",
       "      <th></th>\n",
       "      <th>left</th>\n",
       "    </tr>\n",
       "  </thead>\n",
       "  <tbody>\n",
       "    <tr>\n",
       "      <th>6870</th>\n",
       "      <td>0</td>\n",
       "    </tr>\n",
       "    <tr>\n",
       "      <th>8889</th>\n",
       "      <td>1</td>\n",
       "    </tr>\n",
       "    <tr>\n",
       "      <th>7058</th>\n",
       "      <td>0</td>\n",
       "    </tr>\n",
       "    <tr>\n",
       "      <th>8858</th>\n",
       "      <td>1</td>\n",
       "    </tr>\n",
       "    <tr>\n",
       "      <th>8014</th>\n",
       "      <td>0</td>\n",
       "    </tr>\n",
       "  </tbody>\n",
       "</table>\n",
       "</div>"
      ],
      "text/plain": [
       "      left\n",
       "6870     0\n",
       "8889     1\n",
       "7058     0\n",
       "8858     1\n",
       "8014     0"
      ]
     },
     "execution_count": 55,
     "metadata": {},
     "output_type": "execute_result"
    }
   ],
   "source": [
    "y_train.head() # just checking to see that y_train has the same indexes as X_train so when I join them up \n",
    "            # to create the correlation plot it makes sense."
   ]
  },
  {
   "cell_type": "code",
   "execution_count": 56,
   "id": "4fd67bc6",
   "metadata": {},
   "outputs": [],
   "source": [
    "y_train.reset_index(drop=True, inplace=True)"
   ]
  },
  {
   "cell_type": "code",
   "execution_count": 57,
   "id": "0a276a6d",
   "metadata": {},
   "outputs": [
    {
     "data": {
      "text/html": [
       "<div>\n",
       "<style scoped>\n",
       "    .dataframe tbody tr th:only-of-type {\n",
       "        vertical-align: middle;\n",
       "    }\n",
       "\n",
       "    .dataframe tbody tr th {\n",
       "        vertical-align: top;\n",
       "    }\n",
       "\n",
       "    .dataframe thead th {\n",
       "        text-align: right;\n",
       "    }\n",
       "</style>\n",
       "<table border=\"1\" class=\"dataframe\">\n",
       "  <thead>\n",
       "    <tr style=\"text-align: right;\">\n",
       "      <th></th>\n",
       "      <th>left</th>\n",
       "    </tr>\n",
       "  </thead>\n",
       "  <tbody>\n",
       "    <tr>\n",
       "      <th>0</th>\n",
       "      <td>0</td>\n",
       "    </tr>\n",
       "    <tr>\n",
       "      <th>1</th>\n",
       "      <td>1</td>\n",
       "    </tr>\n",
       "    <tr>\n",
       "      <th>2</th>\n",
       "      <td>0</td>\n",
       "    </tr>\n",
       "    <tr>\n",
       "      <th>3</th>\n",
       "      <td>1</td>\n",
       "    </tr>\n",
       "    <tr>\n",
       "      <th>4</th>\n",
       "      <td>0</td>\n",
       "    </tr>\n",
       "  </tbody>\n",
       "</table>\n",
       "</div>"
      ],
      "text/plain": [
       "   left\n",
       "0     0\n",
       "1     1\n",
       "2     0\n",
       "3     1\n",
       "4     0"
      ]
     },
     "execution_count": 57,
     "metadata": {},
     "output_type": "execute_result"
    }
   ],
   "source": [
    "y_train.head()"
   ]
  },
  {
   "cell_type": "code",
   "execution_count": 58,
   "id": "527af014",
   "metadata": {},
   "outputs": [
    {
     "data": {
      "text/plain": [
       "<AxesSubplot:>"
      ]
     },
     "execution_count": 58,
     "metadata": {},
     "output_type": "execute_result"
    },
    {
     "data": {
      "image/png": "[encoded data removed]",
      "text/plain": [
       "<Figure size 792x648 with 2 Axes>"
      ]
     },
     "metadata": {},
     "output_type": "display_data"
    }
   ],
   "source": [
    "d = pd.concat([X_train, y_train],axis = 1) # Concatenating the X_train and target variable to see which features if any \n",
    "                                                   # are correlated with it\n",
    "# Compute the correlation matrix\n",
    "corr = d.corr()\n",
    "\n",
    "# Generate a mask for the upper triangle\n",
    "mask = np.triu(np.ones_like(corr, dtype=bool))\n",
    "\n",
    "# Set up the matplotlib figure\n",
    "f, ax = plt.subplots(figsize=(11, 9))\n",
    "\n",
    "# Generate a custom diverging colormap\n",
    "cmap = sns.diverging_palette(230, 20, as_cmap=True)\n",
    "\n",
    "# Draw the heatmap with the mask and correct aspect ratio\n",
    "sns.heatmap(corr, mask=mask, cmap=cmap, vmax=.3, center=0,\n",
    "            square=True, linewidths=.5, cbar_kws={\"shrink\": .5})"
   ]
  },
  {
   "cell_type": "markdown",
   "id": "840630e7",
   "metadata": {},
   "source": [
    "#### So from this correlation plot (ok I know I am not supposed to get correlations between categorical and continuous variables\n",
    "#### like this but I just did it) we can see that review has a big negative impact on if a person left or not"
   ]
  },
  {
   "cell_type": "markdown",
   "id": "a337130c",
   "metadata": {},
   "source": [
    "## Using SMOTE for imbalanced dataset "
   ]
  },
  {
   "cell_type": "markdown",
   "id": "a3b8a101",
   "metadata": {},
   "source": [
    "I googled \"how to use smote python\": https://machinelearningmastery.com/smote-oversampling-for-imbalanced-classification/\n",
    "\n",
    "https://towardsdatascience.com/applying-smote-for-class-imbalance-with-just-a-few-lines-of-code-python-cdf603e58688\n",
    "    \n",
    "https://towardsdatascience.com/how-to-effortlessly-handle-class-imbalance-with-python-and-smote-9b715ca8e5a7   - In this article the guy SMOTED everything and then did the split. He is not supposed to do this. He was supposed to split first and then SMOTE ---> then train the model --> then test the model on the unsmoted data"
   ]
  },
  {
   "cell_type": "code",
   "execution_count": 59,
   "id": "52d6c89c",
   "metadata": {},
   "outputs": [],
   "source": [
    "# from imblearn.over_sampling import SMOTE\n",
    "# sm = SMOTE(random_state=42)\n",
    "# X_res, y_res = sm.fit_resample(X_train, y_train)\n",
    "\n"
   ]
  },
  {
   "cell_type": "code",
   "execution_count": 60,
   "id": "8534f6bf",
   "metadata": {},
   "outputs": [
    {
     "name": "stdout",
     "output_type": "stream",
     "text": [
      "Shape of X_train before SMOTE: (7632, 18)\n",
      "Shape of X_train after SMOTE: (10746, 18)\n",
      "\n",
      "Balance of positive and negative classes (%):\n"
     ]
    },
    {
     "data": {
      "text/plain": [
       "left\n",
       "1       50.0\n",
       "0       50.0\n",
       "dtype: float64"
      ]
     },
     "execution_count": 60,
     "metadata": {},
     "output_type": "execute_result"
    }
   ],
   "source": [
    "from imblearn.over_sampling import SMOTE \n",
    "\n",
    "sm = SMOTE(random_state=42)\n",
    "\n",
    "X_train_sm, y_train_sm = sm.fit_resample(X_train, y_train)\n",
    "\n",
    "print(f'''Shape of X_train before SMOTE: {X_train.shape}\n",
    "Shape of X_train after SMOTE: {X_train_sm.shape}''')\n",
    "\n",
    "print('\\nBalance of positive and negative classes (%):')\n",
    "y_train_sm.value_counts(normalize=True) * 100"
   ]
  },
  {
   "cell_type": "markdown",
   "id": "d5de5a25",
   "metadata": {},
   "source": [
    "## Modelling"
   ]
  },
  {
   "cell_type": "markdown",
   "id": "fdc8690d",
   "metadata": {},
   "source": [
    "### Converting X_test through same transformation pipeline:"
   ]
  },
  {
   "cell_type": "code",
   "execution_count": 61,
   "id": "400cb38b",
   "metadata": {
    "scrolled": true
   },
   "outputs": [
    {
     "name": "stdout",
     "output_type": "stream",
     "text": [
      "(1908, 9)\n"
     ]
    }
   ],
   "source": [
    "print(X_test.shape)"
   ]
  },
  {
   "cell_type": "code",
   "execution_count": 62,
   "id": "2ba91706",
   "metadata": {},
   "outputs": [],
   "source": [
    "X_test = pd.get_dummies(X_test, columns = ['department', 'salary'], drop_first = True)\n",
    "features = ['projects', 'tenure', 'avg_hrs_month']\n",
    "features_scaled = pd.DataFrame(scaler.transform(X_test[features])) # not fit but just transform\n",
    "features_scaled.columns = ['projects_scaled','tenure_scaled','avg_hrs_month_scaled']\n",
    "X_test.reset_index(drop=True, inplace=True)\n",
    "X_test = pd.concat([X_test, features_scaled.reindex(X_test.index)],axis = 1)\n",
    "X_test.drop(['projects', 'tenure', 'avg_hrs_month'], axis = 1, inplace = True) \n"
   ]
  },
  {
   "cell_type": "code",
   "execution_count": 63,
   "id": "83d9e7d7",
   "metadata": {},
   "outputs": [
    {
     "name": "stdout",
     "output_type": "stream",
     "text": [
      "(1908, 18)\n"
     ]
    }
   ],
   "source": [
    "print(X_test.shape)"
   ]
  },
  {
   "cell_type": "markdown",
   "id": "3d790c63",
   "metadata": {},
   "source": [
    "## Logistic Regression"
   ]
  },
  {
   "cell_type": "code",
   "execution_count": 64,
   "id": "7ed32eb4",
   "metadata": {},
   "outputs": [],
   "source": [
    "logr = LogisticRegression()"
   ]
  },
  {
   "cell_type": "code",
   "execution_count": 65,
   "id": "96388101",
   "metadata": {
    "scrolled": true
   },
   "outputs": [
    {
     "data": {
      "text/plain": [
       "LogisticRegression()"
      ]
     },
     "execution_count": 65,
     "metadata": {},
     "output_type": "execute_result"
    }
   ],
   "source": [
    "logr.fit(X_train, np.ravel(y_train))"
   ]
  },
  {
   "attachments": {
    "image.png": {
     "image/png": "[encoded data removed]"
    }
   },
   "cell_type": "markdown",
   "id": "fdc753ce",
   "metadata": {},
   "source": [
    "https://www.geeksforgeeks.org/numpy-ravel-python/\n",
    "\n",
    "![image.png](attachment:image.png)"
   ]
  },
  {
   "cell_type": "markdown",
   "id": "60b20bf1",
   "metadata": {},
   "source": [
    "ValueError: Input contains NaN, infinity or a value too large for dtype('float64')\n",
    "\n",
    "https://stackoverflow.com/questions/31323499/sklearn-error-valueerror-input-contains-nan-infinity-or-a-value-too-large-for"
   ]
  },
  {
   "cell_type": "code",
   "execution_count": 66,
   "id": "35f57a2d",
   "metadata": {},
   "outputs": [
    {
     "data": {
      "text/plain": [
       "True"
      ]
     },
     "execution_count": 66,
     "metadata": {},
     "output_type": "execute_result"
    }
   ],
   "source": [
    "np.any(np.isnan(X_train))\n",
    "np.all(np.isfinite(X_train))"
   ]
  },
  {
   "cell_type": "code",
   "execution_count": 67,
   "id": "ec4c0651",
   "metadata": {},
   "outputs": [
    {
     "data": {
      "text/plain": [
       "0.7320492662473794"
      ]
     },
     "execution_count": 67,
     "metadata": {},
     "output_type": "execute_result"
    }
   ],
   "source": [
    "#Check the training score:\n",
    "logr.score(X_train, y_train) # this just checks the score (this is the Accuracy value)"
   ]
  },
  {
   "cell_type": "code",
   "execution_count": 68,
   "id": "2a6a934a",
   "metadata": {},
   "outputs": [
    {
     "data": {
      "text/plain": [
       "0.7458071278825996"
      ]
     },
     "execution_count": 68,
     "metadata": {},
     "output_type": "execute_result"
    }
   ],
   "source": [
    "#Check the test score:\n",
    "logr.score(X_test, np.ravel(y_test)) # this just checks the score (this is the Accuracy value)"
   ]
  },
  {
   "cell_type": "markdown",
   "id": "470f71d6",
   "metadata": {},
   "source": [
    "## Logistic Regression with SMOTE"
   ]
  },
  {
   "cell_type": "code",
   "execution_count": 69,
   "id": "c785ec82",
   "metadata": {},
   "outputs": [
    {
     "data": {
      "text/plain": [
       "LogisticRegression()"
      ]
     },
     "execution_count": 69,
     "metadata": {},
     "output_type": "execute_result"
    }
   ],
   "source": [
    "logr.fit(X_train_sm, np.ravel(y_train_sm))"
   ]
  },
  {
   "cell_type": "code",
   "execution_count": 70,
   "id": "ea14d81f",
   "metadata": {},
   "outputs": [
    {
     "data": {
      "text/plain": [
       "0.673180718406849"
      ]
     },
     "execution_count": 70,
     "metadata": {},
     "output_type": "execute_result"
    }
   ],
   "source": [
    "#Check the training score:\n",
    "logr.score(X_train_sm, y_train_sm) # this just checks the score (this is the Accuracy value)"
   ]
  },
  {
   "cell_type": "code",
   "execution_count": 71,
   "id": "51e3122f",
   "metadata": {},
   "outputs": [
    {
     "data": {
      "text/plain": [
       "0.6719077568134172"
      ]
     },
     "execution_count": 71,
     "metadata": {},
     "output_type": "execute_result"
    }
   ],
   "source": [
    "#Check the test score:\n",
    "logr.score(X_test, y_test) # this just checks the score (this is the Accuracy value)"
   ]
  },
  {
   "cell_type": "code",
   "execution_count": 72,
   "id": "e75d37e3",
   "metadata": {},
   "outputs": [
    {
     "name": "stdout",
     "output_type": "stream",
     "text": [
      "Model weights: [[-0.98747811 10.82010969  2.40503956 -0.09211832 -0.11090359 -0.12437465\n",
      "  -0.23023401 -0.06918304 -0.09310189 -0.26684576 -0.06130565 -0.11334351\n",
      "  -0.14943777  0.04933592  0.11288974 -0.12416778  0.22368266  1.96970787]]\n",
      "Model intercept: [-9.26058536]\n"
     ]
    },
    {
     "data": {
      "text/html": [
       "<div>\n",
       "<style scoped>\n",
       "    .dataframe tbody tr th:only-of-type {\n",
       "        vertical-align: middle;\n",
       "    }\n",
       "\n",
       "    .dataframe tbody tr th {\n",
       "        vertical-align: top;\n",
       "    }\n",
       "\n",
       "    .dataframe thead th {\n",
       "        text-align: right;\n",
       "    }\n",
       "</style>\n",
       "<table border=\"1\" class=\"dataframe\">\n",
       "  <thead>\n",
       "    <tr style=\"text-align: right;\">\n",
       "      <th></th>\n",
       "      <th>features</th>\n",
       "      <th>coefficients</th>\n",
       "    </tr>\n",
       "  </thead>\n",
       "  <tbody>\n",
       "    <tr>\n",
       "      <th>1</th>\n",
       "      <td>review</td>\n",
       "      <td>10.820110</td>\n",
       "    </tr>\n",
       "    <tr>\n",
       "      <th>2</th>\n",
       "      <td>satisfaction</td>\n",
       "      <td>2.405040</td>\n",
       "    </tr>\n",
       "    <tr>\n",
       "      <th>17</th>\n",
       "      <td>avg_hrs_month_scaled</td>\n",
       "      <td>1.969708</td>\n",
       "    </tr>\n",
       "    <tr>\n",
       "      <th>16</th>\n",
       "      <td>tenure_scaled</td>\n",
       "      <td>0.223683</td>\n",
       "    </tr>\n",
       "    <tr>\n",
       "      <th>14</th>\n",
       "      <td>salary_medium</td>\n",
       "      <td>0.112890</td>\n",
       "    </tr>\n",
       "    <tr>\n",
       "      <th>13</th>\n",
       "      <td>salary_low</td>\n",
       "      <td>0.049336</td>\n",
       "    </tr>\n",
       "    <tr>\n",
       "      <th>10</th>\n",
       "      <td>department_retail</td>\n",
       "      <td>-0.061306</td>\n",
       "    </tr>\n",
       "    <tr>\n",
       "      <th>7</th>\n",
       "      <td>department_logistics</td>\n",
       "      <td>-0.069183</td>\n",
       "    </tr>\n",
       "    <tr>\n",
       "      <th>3</th>\n",
       "      <td>bonus</td>\n",
       "      <td>-0.092118</td>\n",
       "    </tr>\n",
       "    <tr>\n",
       "      <th>8</th>\n",
       "      <td>department_marketing</td>\n",
       "      <td>-0.093102</td>\n",
       "    </tr>\n",
       "    <tr>\n",
       "      <th>4</th>\n",
       "      <td>department_admin</td>\n",
       "      <td>-0.110904</td>\n",
       "    </tr>\n",
       "    <tr>\n",
       "      <th>11</th>\n",
       "      <td>department_sales</td>\n",
       "      <td>-0.113344</td>\n",
       "    </tr>\n",
       "    <tr>\n",
       "      <th>15</th>\n",
       "      <td>projects_scaled</td>\n",
       "      <td>-0.124168</td>\n",
       "    </tr>\n",
       "    <tr>\n",
       "      <th>5</th>\n",
       "      <td>department_engineering</td>\n",
       "      <td>-0.124375</td>\n",
       "    </tr>\n",
       "    <tr>\n",
       "      <th>12</th>\n",
       "      <td>department_support</td>\n",
       "      <td>-0.149438</td>\n",
       "    </tr>\n",
       "    <tr>\n",
       "      <th>6</th>\n",
       "      <td>department_finance</td>\n",
       "      <td>-0.230234</td>\n",
       "    </tr>\n",
       "    <tr>\n",
       "      <th>9</th>\n",
       "      <td>department_operations</td>\n",
       "      <td>-0.266846</td>\n",
       "    </tr>\n",
       "    <tr>\n",
       "      <th>0</th>\n",
       "      <td>promoted</td>\n",
       "      <td>-0.987478</td>\n",
       "    </tr>\n",
       "  </tbody>\n",
       "</table>\n",
       "</div>"
      ],
      "text/plain": [
       "                  features  coefficients\n",
       "1                   review     10.820110\n",
       "2             satisfaction      2.405040\n",
       "17    avg_hrs_month_scaled      1.969708\n",
       "16           tenure_scaled      0.223683\n",
       "14           salary_medium      0.112890\n",
       "13              salary_low      0.049336\n",
       "10       department_retail     -0.061306\n",
       "7     department_logistics     -0.069183\n",
       "3                    bonus     -0.092118\n",
       "8     department_marketing     -0.093102\n",
       "4         department_admin     -0.110904\n",
       "11        department_sales     -0.113344\n",
       "15         projects_scaled     -0.124168\n",
       "5   department_engineering     -0.124375\n",
       "12      department_support     -0.149438\n",
       "6       department_finance     -0.230234\n",
       "9    department_operations     -0.266846\n",
       "0                 promoted     -0.987478"
      ]
     },
     "execution_count": 72,
     "metadata": {},
     "output_type": "execute_result"
    }
   ],
   "source": [
    "print(\"Model weights: %s\"%(logr.coef_)) # these are weights\n",
    "print(\"Model intercept: %s\"%(logr.intercept_)) # this is the bias term\n",
    "data = {'features': X_train_sm.columns, 'coefficients':logr.coef_[0]}\n",
    "pd.DataFrame(data)\n",
    "pd.DataFrame(data).sort_values(by=['coefficients'], axis=0, ascending=False)"
   ]
  },
  {
   "cell_type": "markdown",
   "id": "69167881",
   "metadata": {},
   "source": [
    "## Random Forest Classifier"
   ]
  },
  {
   "cell_type": "markdown",
   "id": "d29cb38e",
   "metadata": {},
   "source": [
    "I was wondering how that SMOTE guy (https://towardsdatascience.com/how-to-effortlessly-handle-class-imbalance-with-python-and-smote-9b715ca8e5a7) (link pasted in SMOTE section above too) knew how to use the sklearn.metrics accuracy score and recall score, when I just googled \"sklearn metrics\":\n",
    "https://scikit-learn.org/stable/modules/model_evaluation.html\n",
    "\n",
    "https://scikit-learn.org/stable/modules/classes.html#module-sklearn.metrics"
   ]
  },
  {
   "cell_type": "markdown",
   "id": "e4daf65e",
   "metadata": {},
   "source": [
    "The best metric to use in this case would be the F1 score as you would want a balance between precision and recall as it is simalar to cancer:\n",
    "\n",
    "https://towardsdatascience.com/precision-recall-and-predicting-cervical-cancer-with-machine-learning-367221e70538#:~:text=Precision%20represents%20the%20proportion%20of,that%20the%20model%20accurately%20predicted."
   ]
  },
  {
   "cell_type": "code",
   "execution_count": 73,
   "id": "36c2e294",
   "metadata": {
    "scrolled": true
   },
   "outputs": [
    {
     "ename": "NameError",
     "evalue": "name 'precision_score' is not defined",
     "output_type": "error",
     "traceback": [
      "\u001b[1;31m---------------------------------------------------------------------------\u001b[0m",
      "\u001b[1;31mNameError\u001b[0m                                 Traceback (most recent call last)",
      "\u001b[1;32m<ipython-input-73-4db2241f748c>\u001b[0m in \u001b[0;36m<module>\u001b[1;34m\u001b[0m\n\u001b[1;32m----> 1\u001b[1;33m \u001b[0mprecision_score\u001b[0m\u001b[1;33m\u001b[0m\u001b[1;33m\u001b[0m\u001b[0m\n\u001b[0m",
      "\u001b[1;31mNameError\u001b[0m: name 'precision_score' is not defined"
     ]
    }
   ],
   "source": [
    "precision_score"
   ]
  },
  {
   "cell_type": "markdown",
   "id": "2e9e8d8c",
   "metadata": {},
   "source": [
    "#### I am getting that error above \" NameError: name 'precision_score' is not defined \" because I did not import precision_score  under sklearn.metrics"
   ]
  },
  {
   "cell_type": "code",
   "execution_count": 77,
   "id": "648d227a",
   "metadata": {
    "scrolled": false
   },
   "outputs": [
    {
     "name": "stdout",
     "output_type": "stream",
     "text": [
      "Accuracy = 0.867\n",
      "Recall = 0.682\n",
      "F1 Score = 0.739\n",
      "\n"
     ]
    },
    {
     "data": {
      "image/png": "[encoded data removed]",
      "text/plain": [
       "<Figure size 576x432 with 2 Axes>"
      ]
     },
     "metadata": {},
     "output_type": "display_data"
    }
   ],
   "source": [
    "# Train\n",
    "model = RandomForestClassifier(random_state=42)\n",
    "model.fit(X_train, np.ravel(y_train))\n",
    "preds = model.predict(X_test)\n",
    "\n",
    "# Evaluate\n",
    "print(f'Accuracy = {accuracy_score(y_test, preds):.3f}\\nRecall = {recall_score(y_test, preds):.3f}\\nF1 Score = {f1_score(y_test, preds):.3f}\\n')\n",
    "# I added in F1 score\n",
    "cm = confusion_matrix(y_test, preds)\n",
    "plt.figure(figsize=(8, 6))\n",
    "plt.title('Confusion Matrix (without SMOTE)', size=16)\n",
    "sns.heatmap(cm, annot=True, cmap='Blues');"
   ]
  },
  {
   "attachments": {
    "image.png": {
     "image/png": "[encoded data removed]"
    }
   },
   "cell_type": "markdown",
   "id": "f191ac03",
   "metadata": {},
   "source": [
    "![image.png](attachment:image.png)"
   ]
  },
  {
   "cell_type": "markdown",
   "id": "bc173925",
   "metadata": {},
   "source": [
    "## Random Forest Classifier with SMOTE"
   ]
  },
  {
   "cell_type": "code",
   "execution_count": 80,
   "id": "fa8352e1",
   "metadata": {},
   "outputs": [
    {
     "name": "stdout",
     "output_type": "stream",
     "text": [
      "Accuracy = 0.852\n",
      "Recall = 0.766\n",
      "F1 Score = 0.740\n",
      "\n"
     ]
    },
    {
     "data": {
      "image/png": "[encoded data removed]",
      "text/plain": [
       "<Figure size 576x432 with 2 Axes>"
      ]
     },
     "metadata": {},
     "output_type": "display_data"
    }
   ],
   "source": [
    "model = RandomForestClassifier(random_state=42)\n",
    "model.fit(X_train_sm, np.ravel(y_train_sm))\n",
    "preds = model.predict(X_test)\n",
    "\n",
    "print(f'Accuracy = {accuracy_score(y_test, preds):.3f}\\nRecall = {recall_score(y_test, preds):.3f}\\nF1 Score = {f1_score(y_test, preds):.3f}\\n')\n",
    "# I added in F1 score\n",
    "cm = confusion_matrix(y_test, preds)\n",
    "plt.figure(figsize=(8, 6))\n",
    "plt.title('Confusion Matrix (with SMOTE)', size=16)\n",
    "sns.heatmap(cm, annot=True, cmap='Blues');"
   ]
  },
  {
   "cell_type": "code",
   "execution_count": 81,
   "id": "41d97b22",
   "metadata": {},
   "outputs": [
    {
     "data": {
      "image/png": "[encoded data removed]",
      "text/plain": [
       "<Figure size 432x288 with 2 Axes>"
      ]
     },
     "metadata": {},
     "output_type": "display_data"
    }
   ],
   "source": [
    "from sklearn.metrics import confusion_matrix, ConfusionMatrixDisplay\n",
    "cm = confusion_matrix(y_test, preds, labels=model.classes_)\n",
    "disp = ConfusionMatrixDisplay(confusion_matrix=cm,\n",
    "                               display_labels=model.classes_)\n",
    "disp.plot()\n",
    "\n",
    "plt.show()"
   ]
  },
  {
   "attachments": {
    "image-2.png": {
     "image/png": "[encoded data removed]"
    },
    "image.png": {
     "image/png": "[encoded data removed]"
    }
   },
   "cell_type": "markdown",
   "id": "766ae895",
   "metadata": {},
   "source": [
    "I googled: \"sklearn metrics confusion_matrix\" as I was unsure if True (Actual) were the rows and the Predicted was the Columns.\n",
    "\n",
    "https://scikit-learn.org/stable/modules/generated/sklearn.metrics.confusion_matrix.html\n",
    "\n",
    "https://scikit-learn.org/stable/modules/generated/sklearn.metrics.ConfusionMatrixDisplay.html\n",
    "\n",
    "![image.png](attachment:image.png)\n",
    "\n",
    "![image-2.png](attachment:image-2.png)\n",
    "\n"
   ]
  },
  {
   "cell_type": "markdown",
   "id": "87419f76",
   "metadata": {},
   "source": [
    "https://www.dataschool.io/simple-guide-to-confusion-matrix-terminology/#:~:text=A%20confusion%20matrix%20is%20a,the%20true%20values%20are%20known.&text=The%20classifier%20made%20a%20total,the%20presence%20of%20that%20disease).\n",
    "\n",
    "Accuracy: Overall, how often is the classifier correct?\n",
    "(TP+TN)/total = (402+1223)/1908 = 0.852\n",
    "\n",
    "Okay good so the Accuracy checks out!\n",
    "\n",
    "True Positive Rate: When it's actually yes, how often does it predict yes?\n",
    "Actual Yes = 123 + 402 = 525\n",
    "TP/actual yes = 402/525 = 0.766\n",
    "also known as \"Sensitivity\" or \"Recall\"\n",
    "\n",
    "Okay good so the Recall checks out!\n",
    "\n",
    "Precision = TP/predicted yes = 402/(160 + 402) = 0.91"
   ]
  },
  {
   "cell_type": "code",
   "execution_count": 84,
   "id": "7ca6bb03",
   "metadata": {},
   "outputs": [
    {
     "data": {
      "text/plain": [
       "0.8516771488469602"
      ]
     },
     "execution_count": 84,
     "metadata": {},
     "output_type": "execute_result"
    }
   ],
   "source": [
    "(402+1223)/1908"
   ]
  },
  {
   "cell_type": "code",
   "execution_count": 83,
   "id": "75a317fd",
   "metadata": {},
   "outputs": [
    {
     "data": {
      "text/plain": [
       "0.7657142857142857"
      ]
     },
     "execution_count": 83,
     "metadata": {},
     "output_type": "execute_result"
    }
   ],
   "source": [
    "402/525"
   ]
  },
  {
   "cell_type": "code",
   "execution_count": 82,
   "id": "d934d39a",
   "metadata": {},
   "outputs": [
    {
     "data": {
      "text/plain": [
       "0.7153024911032029"
      ]
     },
     "execution_count": 82,
     "metadata": {},
     "output_type": "execute_result"
    }
   ],
   "source": [
    "402/(160 + 402)"
   ]
  },
  {
   "cell_type": "code",
   "execution_count": 85,
   "id": "de43497d",
   "metadata": {},
   "outputs": [
    {
     "data": {
      "text/plain": [
       "DecisionTreeClassifier()"
      ]
     },
     "execution_count": 85,
     "metadata": {},
     "output_type": "execute_result"
    }
   ],
   "source": [
    "model.base_estimator_"
   ]
  },
  {
   "cell_type": "markdown",
   "id": "f5a60aca",
   "metadata": {},
   "source": [
    "### Feature Importance from RandomForestClassifier\n",
    "\n",
    "https://scikit-learn.org/stable/modules/generated/sklearn.ensemble.RandomForestClassifier.html"
   ]
  },
  {
   "cell_type": "markdown",
   "id": "c9811ff0",
   "metadata": {},
   "source": [
    "### Plotting the feature importances\n",
    "\n",
    "https://mljar.com/blog/feature-importance-in-random-forest/"
   ]
  },
  {
   "cell_type": "markdown",
   "id": "6ea9a231",
   "metadata": {},
   "source": [
    "#### Other feature importance link: didn't really use it but it has some useful shit\n",
    "\n",
    "https://towardsdatascience.com/feature-selection-techniques-for-classification-and-python-tips-for-their-application-10c0ddd7918b"
   ]
  },
  {
   "cell_type": "code",
   "execution_count": 86,
   "id": "8779681b",
   "metadata": {
    "scrolled": true
   },
   "outputs": [
    {
     "data": {
      "text/plain": [
       "array([0.00420913, 0.25108837, 0.24270479, 0.01041111, 0.00371967,\n",
       "       0.00728219, 0.00422219, 0.00396837, 0.00537581, 0.00698832,\n",
       "       0.00751751, 0.00820515, 0.00531105, 0.00730655, 0.01065417,\n",
       "       0.02382852, 0.13989034, 0.25731676])"
      ]
     },
     "execution_count": 86,
     "metadata": {},
     "output_type": "execute_result"
    }
   ],
   "source": [
    "model.feature_importances_"
   ]
  },
  {
   "cell_type": "code",
   "execution_count": 87,
   "id": "6281630e",
   "metadata": {
    "scrolled": true
   },
   "outputs": [
    {
     "data": {
      "text/plain": [
       "18"
      ]
     },
     "execution_count": 87,
     "metadata": {},
     "output_type": "execute_result"
    }
   ],
   "source": [
    "model.n_features_in_"
   ]
  },
  {
   "cell_type": "code",
   "execution_count": 92,
   "id": "04ab70a0",
   "metadata": {},
   "outputs": [
    {
     "name": "stdout",
     "output_type": "stream",
     "text": [
      "0.23.2\n"
     ]
    }
   ],
   "source": [
    "import sklearn\n",
    "sklearn_version = sklearn.__version__\n",
    "\n",
    "print(sklearn_version)"
   ]
  },
  {
   "cell_type": "markdown",
   "id": "9bcf0dab",
   "metadata": {},
   "source": [
    "You see that is why the feature names shit I was trying to do below was not working"
   ]
  },
  {
   "cell_type": "code",
   "execution_count": 88,
   "id": "aa23fd18",
   "metadata": {},
   "outputs": [
    {
     "ename": "AttributeError",
     "evalue": "'RandomForestClassifier' object has no attribute 'feature_names_in_'",
     "output_type": "error",
     "traceback": [
      "\u001b[1;31m---------------------------------------------------------------------------\u001b[0m",
      "\u001b[1;31mAttributeError\u001b[0m                            Traceback (most recent call last)",
      "\u001b[1;32m<ipython-input-88-6e574aa6a9c8>\u001b[0m in \u001b[0;36m<module>\u001b[1;34m\u001b[0m\n\u001b[1;32m----> 1\u001b[1;33m \u001b[0mmodel\u001b[0m\u001b[1;33m.\u001b[0m\u001b[0mfeature_names_in_\u001b[0m\u001b[1;33m\u001b[0m\u001b[1;33m\u001b[0m\u001b[0m\n\u001b[0m",
      "\u001b[1;31mAttributeError\u001b[0m: 'RandomForestClassifier' object has no attribute 'feature_names_in_'"
     ]
    }
   ],
   "source": [
    "model.feature_names_in_"
   ]
  },
  {
   "cell_type": "code",
   "execution_count": 89,
   "id": "ba81001d",
   "metadata": {
    "scrolled": true
   },
   "outputs": [
    {
     "ename": "AttributeError",
     "evalue": "'RandomForestClassifier' object has no attribute 'feature_names'",
     "output_type": "error",
     "traceback": [
      "\u001b[1;31m---------------------------------------------------------------------------\u001b[0m",
      "\u001b[1;31mAttributeError\u001b[0m                            Traceback (most recent call last)",
      "\u001b[1;32m<ipython-input-89-39f96955857e>\u001b[0m in \u001b[0;36m<module>\u001b[1;34m\u001b[0m\n\u001b[0;32m      1\u001b[0m \u001b[0msorted_idx\u001b[0m \u001b[1;33m=\u001b[0m \u001b[0mmodel\u001b[0m\u001b[1;33m.\u001b[0m\u001b[0mfeature_importances_\u001b[0m\u001b[1;33m.\u001b[0m\u001b[0margsort\u001b[0m\u001b[1;33m(\u001b[0m\u001b[1;33m)\u001b[0m\u001b[1;33m\u001b[0m\u001b[1;33m\u001b[0m\u001b[0m\n\u001b[1;32m----> 2\u001b[1;33m \u001b[0mplt\u001b[0m\u001b[1;33m.\u001b[0m\u001b[0mbarh\u001b[0m\u001b[1;33m(\u001b[0m\u001b[0mmodel\u001b[0m\u001b[1;33m.\u001b[0m\u001b[0mfeature_names\u001b[0m\u001b[1;33m[\u001b[0m\u001b[0msorted_idx\u001b[0m\u001b[1;33m]\u001b[0m\u001b[1;33m,\u001b[0m \u001b[0mmodel\u001b[0m\u001b[1;33m.\u001b[0m\u001b[0mfeature_importances_\u001b[0m\u001b[1;33m[\u001b[0m\u001b[0msorted_idx\u001b[0m\u001b[1;33m]\u001b[0m\u001b[1;33m)\u001b[0m\u001b[1;33m\u001b[0m\u001b[1;33m\u001b[0m\u001b[0m\n\u001b[0m\u001b[0;32m      3\u001b[0m \u001b[0mplt\u001b[0m\u001b[1;33m.\u001b[0m\u001b[0mxlabel\u001b[0m\u001b[1;33m(\u001b[0m\u001b[1;34m\"Random Forest Feature Importance\"\u001b[0m\u001b[1;33m)\u001b[0m\u001b[1;33m\u001b[0m\u001b[1;33m\u001b[0m\u001b[0m\n",
      "\u001b[1;31mAttributeError\u001b[0m: 'RandomForestClassifier' object has no attribute 'feature_names'"
     ]
    }
   ],
   "source": [
    "sorted_idx = model.feature_importances_.argsort()\n",
    "plt.barh(model.feature_names[sorted_idx], model.feature_importances_[sorted_idx])\n",
    "plt.xlabel(\"Random Forest Feature Importance\")"
   ]
  },
  {
   "cell_type": "markdown",
   "id": "1c83c3b4",
   "metadata": {},
   "source": [
    "To get the below:\n",
    "https://stackoverflow.com/questions/41900387/mapping-column-names-to-random-forest-feature-importances"
   ]
  },
  {
   "cell_type": "code",
   "execution_count": 90,
   "id": "03320df4",
   "metadata": {},
   "outputs": [
    {
     "data": {
      "image/png": "[encoded data removed]",
      "text/plain": [
       "<Figure size 432x288 with 1 Axes>"
      ]
     },
     "metadata": {},
     "output_type": "display_data"
    }
   ],
   "source": [
    "feat_importances = pd.Series(model.feature_importances_, index=X_train_sm.columns) # this is just making a pandas series of the feature importances values and their respective names.\n",
    "feat_importances.nlargest(18).plot(kind='barh')\n",
    "plt.title(\"Top 18 important features\")\n",
    "plt.show()"
   ]
  },
  {
   "cell_type": "markdown",
   "id": "53308de8",
   "metadata": {},
   "source": [
    "My question is how do you tell if a high or low value of the most important features affects the outcome of the model?\n",
    "\n",
    "What Mitch said here is that you can't unless like you use just that one feature ( where I assume you would be able to \n",
    "get the coefficient). But in this case you would not be able to say if a high value of review would lead to a 0 or a 1 being predicted. Because in this scenario you would intuitevly know that hey a low satisfaction score would lead to an employee leaving but in other cases like in some medical thing if there is a gene x as a feature, it would be way more difficult to say if a high or low value of that feature would impact the classification in a particular manner.\n",
    "\n",
    "All he said that is good enough if you are presenting to a manager or something is to explain to them that those 3 variables are great predictors or have the highest importance when it comes to predicting if an employeee will churn or not."
   ]
  },
  {
   "cell_type": "markdown",
   "id": "b20a5bb1",
   "metadata": {},
   "source": [
    "do a clustering to see if I can get any clusters"
   ]
  }
 ],
 "metadata": {
  "kernelspec": {
   "display_name": "Python 3",
   "language": "python",
   "name": "python3"
  },
  "language_info": {
   "codemirror_mode": {
    "name": "ipython",
    "version": 3
   },
   "file_extension": ".py",
   "mimetype": "text/x-python",
   "name": "python",
   "nbconvert_exporter": "python",
   "pygments_lexer": "ipython3",
   "version": "3.6.13"
  }
 },
 "nbformat": 4,
 "nbformat_minor": 5
}
